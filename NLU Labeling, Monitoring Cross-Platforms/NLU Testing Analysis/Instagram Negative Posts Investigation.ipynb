{
 "cells": [
  {
   "cell_type": "markdown",
   "id": "89432a10",
   "metadata": {},
   "source": [
    "# Social Network Analysis - Amber Heard Case - Instagram\n",
    "Adel Abu Hashim & Mahmoud Nagy - November 2021"
   ]
  },
  {
   "cell_type": "markdown",
   "id": "da80c414",
   "metadata": {},
   "source": [
    "   "
   ]
  },
  {
   "cell_type": "markdown",
   "id": "33280af7",
   "metadata": {},
   "source": [
    "## Table of Contents\n",
    "<ul>\n",
    "<li><a href=\"#intro\"><b>Introduction</b></a></li>\n",
    "<li><a href=\"#eda\">Exploratory Data Analysis</a></li>\n",
    "<li><a href=\"#conclusions\">Conclusions</a></li>\n",
    "</ul>"
   ]
  },
  {
   "cell_type": "markdown",
   "id": "f69c5031",
   "metadata": {},
   "source": [
    "**NOTE:** The DataFrame used in this Analysis is Filtered on the negatively commented users & the negative text and keywords used from the comments analysis"
   ]
  },
  {
   "cell_type": "markdown",
   "id": "11a40e3c",
   "metadata": {},
   "source": [
    "<a id='intro'></a>\n",
    "## Introduction\n",
    "\n",
    ">This case study aims to help **Amber Heard** <br>\n",
    "> \n",
    "> By analyzing new accounts posting/ commenting against a victim of a Social Bot Disinformation/Influence Operation. \n",
    "> \n",
    "> **We have two main datasets**: <br>\n",
    ">(The datasets screaped from **Instagram**).\n",
    "> - 1- A dataset with posts data.\n",
    "> - 2- A dataset with comments data."
   ]
  },
  {
   "cell_type": "code",
   "execution_count": 1,
   "id": "5dafd797",
   "metadata": {},
   "outputs": [],
   "source": [
    "import pandas as pd\n",
    "import os\n",
    "from datetime import datetime\n",
    "import numpy as np\n",
    "import matplotlib.pyplot as plt\n",
    "import seaborn as sb\n",
    "import plotly.express as px\n",
    "import plotly.graph_objects as go\n",
    "import warnings\n",
    "import re\n",
    "import seaborn as sb\n",
    "import re\n",
    "import pickle\n",
    "\n",
    "warnings.filterwarnings(\"ignore\")\n",
    "\n",
    "import plotly.io as pio\n",
    "from helpers import barh, pie, get_top, handler, isnull, bar, bar_peaks, draw_heatmap, facet_heat, facet_days, SameText\n",
    "\n",
    "pio.renderers\n",
    "# pio.renderers.default = \"svg\"\n",
    "svg_renderer = pio.renderers[\"svg\"]\n",
    "svg_renderer.width = 950\n",
    "svg_renderer.height = 550\n",
    "\n",
    "%matplotlib inline"
   ]
  },
  {
   "cell_type": "code",
   "execution_count": 2,
   "id": "de8479a6",
   "metadata": {},
   "outputs": [],
   "source": [
    "os.chdir(\"../Data\")"
   ]
  },
  {
   "cell_type": "code",
   "execution_count": 3,
   "id": "f85a27c5",
   "metadata": {},
   "outputs": [
    {
     "name": "stdout",
     "output_type": "stream",
     "text": [
      "1Mil Instagram AH SNA comments.zip\r\n",
      "Instagram Posts - AH 2018-2021 study 193K.zip\r\n",
      "Instagram SNA AH comments.zip\r\n",
      "comments.csv\r\n",
      "comments_cleaned.csv\r\n",
      "comments_text.csv\r\n",
      "negative_text.pkl\r\n",
      "negative_users.pkl\r\n",
      "posts.csv\r\n",
      "posts_cleaned.csv\r\n"
     ]
    }
   ],
   "source": [
    "ls"
   ]
  },
  {
   "cell_type": "code",
   "execution_count": 4,
   "id": "b5553755",
   "metadata": {},
   "outputs": [
    {
     "name": "stdout",
     "output_type": "stream",
     "text": [
      "(193967, 16)\n"
     ]
    },
    {
     "data": {
      "text/html": [
       "<div>\n",
       "<style scoped>\n",
       "    .dataframe tbody tr th:only-of-type {\n",
       "        vertical-align: middle;\n",
       "    }\n",
       "\n",
       "    .dataframe tbody tr th {\n",
       "        vertical-align: top;\n",
       "    }\n",
       "\n",
       "    .dataframe thead th {\n",
       "        text-align: right;\n",
       "    }\n",
       "</style>\n",
       "<table border=\"1\" class=\"dataframe\">\n",
       "  <thead>\n",
       "    <tr style=\"text-align: right;\">\n",
       "      <th></th>\n",
       "      <th>id</th>\n",
       "      <th>shortcode</th>\n",
       "      <th>display_url</th>\n",
       "      <th>display_resources</th>\n",
       "      <th>is_video</th>\n",
       "      <th>edge_media_to_caption.edges</th>\n",
       "      <th>location.id</th>\n",
       "      <th>location.has_public_page</th>\n",
       "      <th>location.name</th>\n",
       "      <th>location.slug</th>\n",
       "      <th>location.address_json</th>\n",
       "      <th>from.id</th>\n",
       "      <th>from.username</th>\n",
       "      <th>from.url</th>\n",
       "      <th>location</th>\n",
       "      <th>taken_at_timestamp</th>\n",
       "    </tr>\n",
       "  </thead>\n",
       "  <tbody>\n",
       "    <tr>\n",
       "      <th>0</th>\n",
       "      <td>2312672024680952662</td>\n",
       "      <td>2312672024680952662</td>\n",
       "      <td>https://instagram.fmci2-1.fna.fbcdn.net/v/t51....</td>\n",
       "      <td>[{'src': 'https://instagram.fmci2-1.fna.fbcdn....</td>\n",
       "      <td>False</td>\n",
       "      <td>[{'node': {'text': 'According to the Digital t...</td>\n",
       "      <td>255561330.0</td>\n",
       "      <td>True</td>\n",
       "      <td>Hollywood</td>\n",
       "      <td>hollywood</td>\n",
       "      <td>{\"street_address\": \"\", \"zip_code\": \"90028\", \"c...</td>\n",
       "      <td>32529918546</td>\n",
       "      <td>cinescenes_</td>\n",
       "      <td>https://www.instagram.com/cinescenes_</td>\n",
       "      <td>NaN</td>\n",
       "      <td>NaN</td>\n",
       "    </tr>\n",
       "    <tr>\n",
       "      <th>1</th>\n",
       "      <td>2337634847974873162</td>\n",
       "      <td>2337634847974873162</td>\n",
       "      <td>https://scontent-lax3-1.cdninstagram.com/v/t51...</td>\n",
       "      <td>[{'src': 'https://scontent-lax3-1.cdninstagram...</td>\n",
       "      <td>False</td>\n",
       "      <td>[{'node': {'text': 'My girl❤️'}}]</td>\n",
       "      <td>NaN</td>\n",
       "      <td>NaN</td>\n",
       "      <td>NaN</td>\n",
       "      <td>NaN</td>\n",
       "      <td>NaN</td>\n",
       "      <td>3988263563</td>\n",
       "      <td>scarlettjohansonoffcial</td>\n",
       "      <td>https://www.instagram.com/scarlettjohansonoffcial</td>\n",
       "      <td>NaN</td>\n",
       "      <td>NaN</td>\n",
       "    </tr>\n",
       "    <tr>\n",
       "      <th>2</th>\n",
       "      <td>2383123126627446477</td>\n",
       "      <td>2383123126627446477</td>\n",
       "      <td>https://scontent-lga3-1.cdninstagram.com/v/t51...</td>\n",
       "      <td>[{'src': 'https://scontent-lga3-1.cdninstagram...</td>\n",
       "      <td>False</td>\n",
       "      <td>[{'node': {'text': '❤❤❤\\n#eizagonzalez #alexan...</td>\n",
       "      <td>212999109.0</td>\n",
       "      <td>True</td>\n",
       "      <td>Los Angeles, California</td>\n",
       "      <td>los-angeles-california</td>\n",
       "      <td>{\"street_address\": \"\", \"zip_code\": \"\", \"city_n...</td>\n",
       "      <td>38331031416</td>\n",
       "      <td>divine.hollywood.women</td>\n",
       "      <td>https://www.instagram.com/divine.hollywood.women</td>\n",
       "      <td>NaN</td>\n",
       "      <td>NaN</td>\n",
       "    </tr>\n",
       "    <tr>\n",
       "      <th>3</th>\n",
       "      <td>2389292367830952143</td>\n",
       "      <td>2389292367830952143</td>\n",
       "      <td>https://scontent-lga3-1.cdninstagram.com/v/t51...</td>\n",
       "      <td>[{'src': 'https://scontent-lga3-1.cdninstagram...</td>\n",
       "      <td>False</td>\n",
       "      <td>[{'node': {'text': 'Use #KarenGillanslover \\nT...</td>\n",
       "      <td>NaN</td>\n",
       "      <td>NaN</td>\n",
       "      <td>NaN</td>\n",
       "      <td>NaN</td>\n",
       "      <td>NaN</td>\n",
       "      <td>18754453450</td>\n",
       "      <td>karen_gillans_lover</td>\n",
       "      <td>https://www.instagram.com/karen_gillans_lover</td>\n",
       "      <td>NaN</td>\n",
       "      <td>NaN</td>\n",
       "    </tr>\n",
       "    <tr>\n",
       "      <th>4</th>\n",
       "      <td>2484525220804152653</td>\n",
       "      <td>2484525220804152653</td>\n",
       "      <td>https://scontent-lga3-1.cdninstagram.com/v/t51...</td>\n",
       "      <td>[{'src': 'https://scontent-lga3-1.cdninstagram...</td>\n",
       "      <td>False</td>\n",
       "      <td>[{'node': {'text': '.\\nجانی دپ به دنبال پروژه\\...</td>\n",
       "      <td>NaN</td>\n",
       "      <td>NaN</td>\n",
       "      <td>NaN</td>\n",
       "      <td>NaN</td>\n",
       "      <td>NaN</td>\n",
       "      <td>7105766142</td>\n",
       "      <td>cinemafars.official</td>\n",
       "      <td>https://www.instagram.com/cinemafars.official</td>\n",
       "      <td>NaN</td>\n",
       "      <td>NaN</td>\n",
       "    </tr>\n",
       "  </tbody>\n",
       "</table>\n",
       "</div>"
      ],
      "text/plain": [
       "                    id            shortcode  \\\n",
       "0  2312672024680952662  2312672024680952662   \n",
       "1  2337634847974873162  2337634847974873162   \n",
       "2  2383123126627446477  2383123126627446477   \n",
       "3  2389292367830952143  2389292367830952143   \n",
       "4  2484525220804152653  2484525220804152653   \n",
       "\n",
       "                                         display_url  \\\n",
       "0  https://instagram.fmci2-1.fna.fbcdn.net/v/t51....   \n",
       "1  https://scontent-lax3-1.cdninstagram.com/v/t51...   \n",
       "2  https://scontent-lga3-1.cdninstagram.com/v/t51...   \n",
       "3  https://scontent-lga3-1.cdninstagram.com/v/t51...   \n",
       "4  https://scontent-lga3-1.cdninstagram.com/v/t51...   \n",
       "\n",
       "                                   display_resources  is_video  \\\n",
       "0  [{'src': 'https://instagram.fmci2-1.fna.fbcdn....     False   \n",
       "1  [{'src': 'https://scontent-lax3-1.cdninstagram...     False   \n",
       "2  [{'src': 'https://scontent-lga3-1.cdninstagram...     False   \n",
       "3  [{'src': 'https://scontent-lga3-1.cdninstagram...     False   \n",
       "4  [{'src': 'https://scontent-lga3-1.cdninstagram...     False   \n",
       "\n",
       "                         edge_media_to_caption.edges  location.id  \\\n",
       "0  [{'node': {'text': 'According to the Digital t...  255561330.0   \n",
       "1                  [{'node': {'text': 'My girl❤️'}}]          NaN   \n",
       "2  [{'node': {'text': '❤❤❤\\n#eizagonzalez #alexan...  212999109.0   \n",
       "3  [{'node': {'text': 'Use #KarenGillanslover \\nT...          NaN   \n",
       "4  [{'node': {'text': '.\\nجانی دپ به دنبال پروژه\\...          NaN   \n",
       "\n",
       "  location.has_public_page            location.name           location.slug  \\\n",
       "0                     True                Hollywood               hollywood   \n",
       "1                      NaN                      NaN                     NaN   \n",
       "2                     True  Los Angeles, California  los-angeles-california   \n",
       "3                      NaN                      NaN                     NaN   \n",
       "4                      NaN                      NaN                     NaN   \n",
       "\n",
       "                               location.address_json      from.id  \\\n",
       "0  {\"street_address\": \"\", \"zip_code\": \"90028\", \"c...  32529918546   \n",
       "1                                                NaN   3988263563   \n",
       "2  {\"street_address\": \"\", \"zip_code\": \"\", \"city_n...  38331031416   \n",
       "3                                                NaN  18754453450   \n",
       "4                                                NaN   7105766142   \n",
       "\n",
       "             from.username                                           from.url  \\\n",
       "0              cinescenes_              https://www.instagram.com/cinescenes_   \n",
       "1  scarlettjohansonoffcial  https://www.instagram.com/scarlettjohansonoffcial   \n",
       "2   divine.hollywood.women   https://www.instagram.com/divine.hollywood.women   \n",
       "3      karen_gillans_lover      https://www.instagram.com/karen_gillans_lover   \n",
       "4      cinemafars.official      https://www.instagram.com/cinemafars.official   \n",
       "\n",
       "   location  taken_at_timestamp  \n",
       "0       NaN                 NaN  \n",
       "1       NaN                 NaN  \n",
       "2       NaN                 NaN  \n",
       "3       NaN                 NaN  \n",
       "4       NaN                 NaN  "
      ]
     },
     "execution_count": 4,
     "metadata": {},
     "output_type": "execute_result"
    }
   ],
   "source": [
    "original_posts = pd.read_csv('posts.csv')\n",
    "print(original_posts.shape)\n",
    "original_posts.head()"
   ]
  },
  {
   "cell_type": "markdown",
   "id": "7c766b4e",
   "metadata": {},
   "source": [
    "<a id='eda'></a>\n",
    "## Exploratory Data Analysis\n",
    "<ul>\n",
    "<li><a href=\"#intro\">Introduction</a></li>\n",
    "<li><a href=\"#eda\"><b>Exploratory Data Analysis</b></a></li>\n",
    "<li><a href=\"#conclusions\">Conclusions</a></li>\n",
    "</ul>"
   ]
  },
  {
   "cell_type": "markdown",
   "id": "26744d27",
   "metadata": {},
   "source": [
    "<a id='posts'></a>\n",
    "## Posts\n",
    "\n",
    "><ul>\n",
    " <li><a href=\"#top_posted\">Top posted users</a></li>\n",
    " <li><a href=\"#captions\">Captions</a></li>  \n",
    " <li><a href=\"#image_video\">Image or Video</a></li>  \n",
    " <li><a href=\"#loc\">Locations</a></li>  \n",
    " </ul>"
   ]
  },
  {
   "cell_type": "code",
   "execution_count": 5,
   "id": "8a03fe2b",
   "metadata": {
    "scrolled": true
   },
   "outputs": [
    {
     "name": "stdout",
     "output_type": "stream",
     "text": [
      "(193967, 7)\n"
     ]
    },
    {
     "data": {
      "text/html": [
       "<div>\n",
       "<style scoped>\n",
       "    .dataframe tbody tr th:only-of-type {\n",
       "        vertical-align: middle;\n",
       "    }\n",
       "\n",
       "    .dataframe tbody tr th {\n",
       "        vertical-align: top;\n",
       "    }\n",
       "\n",
       "    .dataframe thead th {\n",
       "        text-align: right;\n",
       "    }\n",
       "</style>\n",
       "<table border=\"1\" class=\"dataframe\">\n",
       "  <thead>\n",
       "    <tr style=\"text-align: right;\">\n",
       "      <th></th>\n",
       "      <th>id</th>\n",
       "      <th>is_video</th>\n",
       "      <th>caption</th>\n",
       "      <th>location</th>\n",
       "      <th>user_id</th>\n",
       "      <th>username</th>\n",
       "      <th>account_url</th>\n",
       "    </tr>\n",
       "  </thead>\n",
       "  <tbody>\n",
       "    <tr>\n",
       "      <th>0</th>\n",
       "      <td>2312672024680952662</td>\n",
       "      <td>False</td>\n",
       "      <td>According to the Digital trends: Visual effect...</td>\n",
       "      <td>Hollywood</td>\n",
       "      <td>32529918546</td>\n",
       "      <td>cinescenes_</td>\n",
       "      <td>https://www.instagram.com/cinescenes_</td>\n",
       "    </tr>\n",
       "    <tr>\n",
       "      <th>1</th>\n",
       "      <td>2337634847974873162</td>\n",
       "      <td>False</td>\n",
       "      <td>My girl❤️</td>\n",
       "      <td>NaN</td>\n",
       "      <td>3988263563</td>\n",
       "      <td>scarlettjohansonoffcial</td>\n",
       "      <td>https://www.instagram.com/scarlettjohansonoffcial</td>\n",
       "    </tr>\n",
       "    <tr>\n",
       "      <th>2</th>\n",
       "      <td>2383123126627446477</td>\n",
       "      <td>False</td>\n",
       "      <td>❤❤❤\\n#eizagonzalez #alexandradaddario\\n#jennif...</td>\n",
       "      <td>Los Angeles, California</td>\n",
       "      <td>38331031416</td>\n",
       "      <td>divine.hollywood.women</td>\n",
       "      <td>https://www.instagram.com/divine.hollywood.women</td>\n",
       "    </tr>\n",
       "    <tr>\n",
       "      <th>3</th>\n",
       "      <td>2389292367830952143</td>\n",
       "      <td>False</td>\n",
       "      <td>Use #KarenGillanslover \\nThe smile kills me.😍😍...</td>\n",
       "      <td>NaN</td>\n",
       "      <td>18754453450</td>\n",
       "      <td>karen_gillans_lover</td>\n",
       "      <td>https://www.instagram.com/karen_gillans_lover</td>\n",
       "    </tr>\n",
       "    <tr>\n",
       "      <th>4</th>\n",
       "      <td>2484525220804152653</td>\n",
       "      <td>False</td>\n",
       "      <td>.\\nجانی دپ به دنبال پروژه\\u200cای جدید جهت نقش...</td>\n",
       "      <td>NaN</td>\n",
       "      <td>7105766142</td>\n",
       "      <td>cinemafars.official</td>\n",
       "      <td>https://www.instagram.com/cinemafars.official</td>\n",
       "    </tr>\n",
       "  </tbody>\n",
       "</table>\n",
       "</div>"
      ],
      "text/plain": [
       "                    id  is_video  \\\n",
       "0  2312672024680952662     False   \n",
       "1  2337634847974873162     False   \n",
       "2  2383123126627446477     False   \n",
       "3  2389292367830952143     False   \n",
       "4  2484525220804152653     False   \n",
       "\n",
       "                                             caption                 location  \\\n",
       "0  According to the Digital trends: Visual effect...                Hollywood   \n",
       "1                                          My girl❤️                      NaN   \n",
       "2  ❤❤❤\\n#eizagonzalez #alexandradaddario\\n#jennif...  Los Angeles, California   \n",
       "3  Use #KarenGillanslover \\nThe smile kills me.😍😍...                      NaN   \n",
       "4  .\\nجانی دپ به دنبال پروژه\\u200cای جدید جهت نقش...                      NaN   \n",
       "\n",
       "       user_id                 username  \\\n",
       "0  32529918546              cinescenes_   \n",
       "1   3988263563  scarlettjohansonoffcial   \n",
       "2  38331031416   divine.hollywood.women   \n",
       "3  18754453450      karen_gillans_lover   \n",
       "4   7105766142      cinemafars.official   \n",
       "\n",
       "                                         account_url  \n",
       "0              https://www.instagram.com/cinescenes_  \n",
       "1  https://www.instagram.com/scarlettjohansonoffcial  \n",
       "2   https://www.instagram.com/divine.hollywood.women  \n",
       "3      https://www.instagram.com/karen_gillans_lover  \n",
       "4      https://www.instagram.com/cinemafars.official  "
      ]
     },
     "execution_count": 5,
     "metadata": {},
     "output_type": "execute_result"
    }
   ],
   "source": [
    "df_posts = pd.read_csv(\"posts_cleaned.csv\")\n",
    "print(df_posts.shape)\n",
    "df_posts.head()"
   ]
  },
  {
   "cell_type": "code",
   "execution_count": 6,
   "id": "ed7bae23",
   "metadata": {},
   "outputs": [
    {
     "name": "stdout",
     "output_type": "stream",
     "text": [
      "<class 'pandas.core.frame.DataFrame'>\n",
      "RangeIndex: 193967 entries, 0 to 193966\n",
      "Data columns (total 7 columns):\n",
      " #   Column       Non-Null Count   Dtype \n",
      "---  ------       --------------   ----- \n",
      " 0   id           193967 non-null  object\n",
      " 1   is_video     193967 non-null  bool  \n",
      " 2   caption      193586 non-null  object\n",
      " 3   location     22682 non-null   object\n",
      " 4   user_id      193967 non-null  object\n",
      " 5   username     193967 non-null  object\n",
      " 6   account_url  193967 non-null  object\n",
      "dtypes: bool(1), object(6)\n",
      "memory usage: 9.1+ MB\n"
     ]
    }
   ],
   "source": [
    "df_posts[\"id\"] = df_posts[\"id\"].astype(\"str\")\n",
    "df_posts[\"user_id\"] = df_posts[\"user_id\"].astype(\"str\")\n",
    "df_posts.info()"
   ]
  },
  {
   "cell_type": "code",
   "execution_count": 7,
   "id": "7854b91d",
   "metadata": {},
   "outputs": [
    {
     "name": "stdout",
     "output_type": "stream",
     "text": [
      "The number of NaNs in id: 0\n",
      "The number of NaNs in is_video: 0\n",
      "The number of NaNs in caption: 381\n",
      "The number of NaNs in location: 171285\n",
      "The number of NaNs in user_id: 0\n",
      "The number of NaNs in username: 0\n",
      "The number of NaNs in account_url: 0\n"
     ]
    }
   ],
   "source": [
    "isnull(df_posts)"
   ]
  },
  {
   "cell_type": "code",
   "execution_count": 8,
   "id": "efbabf4e",
   "metadata": {},
   "outputs": [],
   "source": [
    "total_posts = df_posts.shape[0]\n",
    "total_posted_users = df_posts[\"username\"].nunique()"
   ]
  },
  {
   "cell_type": "code",
   "execution_count": 9,
   "id": "3c2e9392",
   "metadata": {},
   "outputs": [
    {
     "name": "stdout",
     "output_type": "stream",
     "text": [
      "total number of posts 193967 by 36137 users\n"
     ]
    }
   ],
   "source": [
    "print(f\"total number of posts {total_posts} by {total_posted_users} users\")"
   ]
  },
  {
   "cell_type": "markdown",
   "id": "11e5a7eb",
   "metadata": {},
   "source": [
    "## Negative Text"
   ]
  },
  {
   "cell_type": "code",
   "execution_count": 10,
   "id": "918186d0",
   "metadata": {},
   "outputs": [
    {
     "data": {
      "text/plain": [
       "{' death',\n",
       " ' death ',\n",
       " ' raped',\n",
       " '#fuckamberheard',\n",
       " '50 million',\n",
       " '7 million',\n",
       " '@amberheard fuck you',\n",
       " 'abus',\n",
       " 'abuse',\n",
       " 'abuser',\n",
       " 'abusing',\n",
       " 'aggressive',\n",
       " 'aggressively pull',\n",
       " 'alcoholic',\n",
       " 'amber abus',\n",
       " 'amber heard abus',\n",
       " 'amber lunge',\n",
       " 'amber turd',\n",
       " 'amber-heard-abus',\n",
       " 'amberheardisaliar',\n",
       " 'amberheardisanabuser',\n",
       " 'amberheardisanabuserandliar',\n",
       " 'amberisanabuser',\n",
       " 'ambertheabuser',\n",
       " 'amberturd',\n",
       " 'assault',\n",
       " 'assaulted johnny',\n",
       " 'beaten',\n",
       " 'beaten up',\n",
       " 'because she is a woman',\n",
       " 'because she’s a woman',\n",
       " 'bitch',\n",
       " 'boycottamber',\n",
       " 'boycottamberheard',\n",
       " 'bullshit',\n",
       " 'burn',\n",
       " 'burn in hell',\n",
       " 'burninhell',\n",
       " 'change.org',\n",
       " 'clawing',\n",
       " 'clown',\n",
       " 'cunt',\n",
       " 'death',\n",
       " 'death to amber',\n",
       " 'deathtoamber',\n",
       " 'deserves it',\n",
       " 'diecunt',\n",
       " 'disgusting',\n",
       " 'domestic violence',\n",
       " 'expos',\n",
       " 'exposing her ass',\n",
       " 'exposingamberheard',\n",
       " 'fake victim',\n",
       " 'felony',\n",
       " 'fire amber',\n",
       " 'fire her',\n",
       " 'fireamber',\n",
       " 'fireamberheard',\n",
       " 'fireamberheardfromaquaman',\n",
       " 'fired',\n",
       " 'fuck  amber',\n",
       " 'fuck @amberheard',\n",
       " 'fuck amber',\n",
       " 'fuck amber heard',\n",
       " 'fuck amber herd',\n",
       " 'fuck her',\n",
       " 'fuck herself',\n",
       " 'fuck off',\n",
       " 'fuck that bitch',\n",
       " 'fuck this bitch',\n",
       " 'fuck u @amberheard',\n",
       " 'fuck you @amberheard',\n",
       " 'fuck you amber',\n",
       " 'fuckamber',\n",
       " 'fuckamberheard',\n",
       " 'fucked the right off',\n",
       " 'fucking abuser',\n",
       " 'fucking bitch',\n",
       " 'fucking bullshit',\n",
       " 'fuckthesun',\n",
       " 'get raped',\n",
       " 'go die',\n",
       " 'go kys amber',\n",
       " 'go to hell',\n",
       " 'gold digger',\n",
       " 'golddigger',\n",
       " 'gotohell',\n",
       " 'how can you still have fans',\n",
       " 'jail',\n",
       " 'jailforamberheard',\n",
       " 'kill',\n",
       " 'kill amber',\n",
       " 'kill her',\n",
       " 'kys',\n",
       " 'lawsuit',\n",
       " 'liar',\n",
       " \"no one will believe you're a victim because you're a man\",\n",
       " 'petition',\n",
       " 'prison',\n",
       " 'punched',\n",
       " 'remove amber',\n",
       " 'remove-amber',\n",
       " 'removeamber',\n",
       " 'removeamberheardsfromaquaman2',\n",
       " 'removed',\n",
       " 'scammer',\n",
       " 'she should kys',\n",
       " 'shit',\n",
       " 'shut',\n",
       " 'stupid',\n",
       " 'stupid ass',\n",
       " 'threw a vodka bottle',\n",
       " 'to death amber',\n",
       " 'tugging',\n",
       " 'victim',\n",
       " 'violence',\n",
       " 'violencehasnogender',\n",
       " 'violent',\n",
       " 'vodka bottle',\n",
       " 'whor'}"
      ]
     },
     "execution_count": 10,
     "metadata": {},
     "output_type": "execute_result"
    }
   ],
   "source": [
    "# To Load the dictionary of negative text   \n",
    "with open('negative_text.pkl', 'rb') as f:\n",
    "    neg_dict = pickle.load(f)\n",
    "    \n",
    "neg_text = set()\n",
    "for key in neg_dict.keys():\n",
    "    neg_text.add(key)\n",
    "    \n",
    "neg_text "
   ]
  },
  {
   "cell_type": "markdown",
   "id": "672c70d4",
   "metadata": {},
   "source": [
    "## Filter the data frame on captions containing negative keywords"
   ]
  },
  {
   "cell_type": "code",
   "execution_count": 11,
   "id": "19cf5303",
   "metadata": {},
   "outputs": [
    {
     "data": {
      "text/plain": [
       "381"
      ]
     },
     "execution_count": 11,
     "metadata": {},
     "output_type": "execute_result"
    }
   ],
   "source": [
    "df_posts.caption.isnull().sum()"
   ]
  },
  {
   "cell_type": "code",
   "execution_count": 12,
   "id": "d3ed93b0",
   "metadata": {},
   "outputs": [
    {
     "data": {
      "text/plain": [
       "(193967, 7)"
      ]
     },
     "execution_count": 12,
     "metadata": {},
     "output_type": "execute_result"
    }
   ],
   "source": [
    "df_posts.shape"
   ]
  },
  {
   "cell_type": "code",
   "execution_count": 13,
   "id": "0f811c59",
   "metadata": {},
   "outputs": [],
   "source": [
    "# first we need to drop the NaNs in the caption column\n",
    "# df_posts = df_posts[df_posts['caption'].notna()]\n",
    "df_posts_neg = df_posts.dropna(subset=['caption'])"
   ]
  },
  {
   "cell_type": "code",
   "execution_count": 14,
   "id": "f59e232c",
   "metadata": {},
   "outputs": [
    {
     "name": "stdout",
     "output_type": "stream",
     "text": [
      "(11535, 7)\n"
     ]
    },
    {
     "data": {
      "text/html": [
       "<div>\n",
       "<style scoped>\n",
       "    .dataframe tbody tr th:only-of-type {\n",
       "        vertical-align: middle;\n",
       "    }\n",
       "\n",
       "    .dataframe tbody tr th {\n",
       "        vertical-align: top;\n",
       "    }\n",
       "\n",
       "    .dataframe thead th {\n",
       "        text-align: right;\n",
       "    }\n",
       "</style>\n",
       "<table border=\"1\" class=\"dataframe\">\n",
       "  <thead>\n",
       "    <tr style=\"text-align: right;\">\n",
       "      <th></th>\n",
       "      <th>id</th>\n",
       "      <th>is_video</th>\n",
       "      <th>caption</th>\n",
       "      <th>location</th>\n",
       "      <th>user_id</th>\n",
       "      <th>username</th>\n",
       "      <th>account_url</th>\n",
       "    </tr>\n",
       "  </thead>\n",
       "  <tbody>\n",
       "    <tr>\n",
       "      <th>3</th>\n",
       "      <td>2389292367830952143</td>\n",
       "      <td>False</td>\n",
       "      <td>Use #KarenGillanslover \\nThe smile kills me.😍😍...</td>\n",
       "      <td>NaN</td>\n",
       "      <td>18754453450</td>\n",
       "      <td>karen_gillans_lover</td>\n",
       "      <td>https://www.instagram.com/karen_gillans_lover</td>\n",
       "    </tr>\n",
       "    <tr>\n",
       "      <th>21</th>\n",
       "      <td>2284264314024432586</td>\n",
       "      <td>False</td>\n",
       "      <td>#amber\\n#amberheard #amberheardisanabuser\\n#am...</td>\n",
       "      <td>NaN</td>\n",
       "      <td>8244142730</td>\n",
       "      <td>allaboutamberheard</td>\n",
       "      <td>https://www.instagram.com/allaboutamberheard</td>\n",
       "    </tr>\n",
       "    <tr>\n",
       "      <th>44</th>\n",
       "      <td>2424793886009164262</td>\n",
       "      <td>False</td>\n",
       "      <td>The 22 📸-year-old, who attending the Cannes Fi...</td>\n",
       "      <td>NaN</td>\n",
       "      <td>8682440340</td>\n",
       "      <td>kristeen_stewarrt</td>\n",
       "      <td>https://www.instagram.com/kristeen_stewarrt</td>\n",
       "    </tr>\n",
       "    <tr>\n",
       "      <th>57</th>\n",
       "      <td>2316509445116749874</td>\n",
       "      <td>False</td>\n",
       "      <td>#boycottloreal #amberheard #johnnydepp #domest...</td>\n",
       "      <td>NaN</td>\n",
       "      <td>35884410125</td>\n",
       "      <td>menlyvibes</td>\n",
       "      <td>https://www.instagram.com/menlyvibes</td>\n",
       "    </tr>\n",
       "    <tr>\n",
       "      <th>71</th>\n",
       "      <td>2469408055960567417</td>\n",
       "      <td>True</td>\n",
       "      <td>I love Johnny sm he's the best guy in Hollywoo...</td>\n",
       "      <td>NaN</td>\n",
       "      <td>30323288244</td>\n",
       "      <td>nffanepage</td>\n",
       "      <td>https://www.instagram.com/nffanepage</td>\n",
       "    </tr>\n",
       "  </tbody>\n",
       "</table>\n",
       "</div>"
      ],
      "text/plain": [
       "                     id  is_video  \\\n",
       "3   2389292367830952143     False   \n",
       "21  2284264314024432586     False   \n",
       "44  2424793886009164262     False   \n",
       "57  2316509445116749874     False   \n",
       "71  2469408055960567417      True   \n",
       "\n",
       "                                              caption location      user_id  \\\n",
       "3   Use #KarenGillanslover \\nThe smile kills me.😍😍...      NaN  18754453450   \n",
       "21  #amber\\n#amberheard #amberheardisanabuser\\n#am...      NaN   8244142730   \n",
       "44  The 22 📸-year-old, who attending the Cannes Fi...      NaN   8682440340   \n",
       "57  #boycottloreal #amberheard #johnnydepp #domest...      NaN  35884410125   \n",
       "71  I love Johnny sm he's the best guy in Hollywoo...      NaN  30323288244   \n",
       "\n",
       "               username                                    account_url  \n",
       "3   karen_gillans_lover  https://www.instagram.com/karen_gillans_lover  \n",
       "21   allaboutamberheard   https://www.instagram.com/allaboutamberheard  \n",
       "44    kristeen_stewarrt    https://www.instagram.com/kristeen_stewarrt  \n",
       "57           menlyvibes           https://www.instagram.com/menlyvibes  \n",
       "71           nffanepage           https://www.instagram.com/nffanepage  "
      ]
     },
     "execution_count": 14,
     "metadata": {},
     "output_type": "execute_result"
    }
   ],
   "source": [
    "df_posts_neg = df_posts_neg[df_posts_neg.caption.str.contains('|'.join(neg_text))]\n",
    "print(df_posts_neg.shape)\n",
    "df_posts_neg.head()"
   ]
  },
  {
   "cell_type": "code",
   "execution_count": 15,
   "id": "d7140c1a",
   "metadata": {},
   "outputs": [
    {
     "data": {
      "text/plain": [
       "#AmberHeard is an #American #actress . She made her film debut in 2004 in the sports drama #FridayNightLights #model #Celebrity #Hollywood \\n#Upcomingmovies :\\xa0#Aquaman ,\\xa0#LondonFields\\n#series #TVShows : #CriminalMinds #ThePlayboyClub #HiddenPalms #Overhaulin\\n#Movies : #JusticeLeague #MagicMike #MagicMikeXXL #driveangry #3daystokill and..                                                                                                                                                         51\n",
       "#johnnydepp #justiceforjohnnydepp #johnnydeppisinnocent #WeStandWithJohnnyDepp \\n#amberheardisaliar #amberheardisanabuser #amberheardusafraud #amberheardusagolddigger #amberturd #amberheard                                                                                                                                                                                                                                                                                                                       51\n",
       "#justiceforjohnnydepp #amberheardisanabuser #JohnnyDepp #amberheard #piratesofthecaribbean #Aquaman                                                                                                                                                                                                                                                                                                                                                                                                                 40\n",
       "Rebecca Ferguson🖤. •\\nFollow @rebecca._ferguson for more!! • •\\n\\n#rebeccaferguson #tomcruise #hughjackman #emilyblunt #emmawatson #zacefron #zendaya #blakelively #annehathaway #sandrabullock #sarahpaulson #cateblanchett #ryanreynolds #angelinajolie #amberheard #jenniferaniston #bradpitt #spidermanfarfromhome #rihanna #juliaroberts #jenniferlawrence #dwaynejohnson #selenagomez #marvel #tomholland #willsmith #missionimpossibleroguenation #missionimpossible #missionimpossiblefallout #ilsafaust    25\n",
       "#amberheard #amberheardedit #amberheardhot \\n#amberheardfans #amberheardstyle #amberlauraheard #amberheardbitch #amberheardmera #wearewithyouamberheard #amberheard2018 #amberhearddepp #fuckamberheard #simplyamberheard #amberheardsexy #amberheardcloset #amberheardcloset #amberheardadmitted #amberheardisaliar                                                                                                                                                                                                24\n",
       "#amberheardisanabuser #justiceforjohnnydepp \\n#domesticviolence\\n#malescanbevictimstoo \\n#johnnydepp #amberheard #leakedaudio #menrights #fuckamberheard #court #fantasticbeasts #captainjacksparrow #piratesofthecaribbean #victimofdomesticabuse #justice #abusivebehaviour #psychologie                                                                                                                                                                                                                          22\n",
       "Thoughts? -Follow @marvel_and_dc_things for more!\\n-\\n-\\n-\\n-\\n-\\n-\\n-\\n#batman #theflash #greenlantern #justiceleague #batmanvsuperman #wonderwoman #ww84 #smallville #aquaman #dccomics #superheroes #comicbook #dcuniverse #dceu #dcfilms #henrycavill #galgadot #titans #avengers4 #avengersinfinitywar #blackpanther #marvelcinematicuniverse #mcu #zacksnyder #deathstroke #harleyquinn #joker #amberheard #dcuniverse #titans #shazam #sdcc                                                                  21\n",
       "#justiceforjohnnydepp #justicefordepp #justiceforjohnny #domesticviolenceawareness #johnnydepp #amberheard #genderequality #truegenderequality #standtogether #standwithjohnnydepp #boycottwarnerbros #amberheard #warnerbros                                                                                                                                                                                                                                                                                       21\n",
       "Rebecca Ferguson💕. •\\nFollow @rebecca._ferguson for more!! • •\\n\\n#rebeccaferguson #tomcruise #hughjackman #emilyblunt #emmawatson #zacefron #zendaya #blakelively #annehathaway #sandrabullock #sarahpaulson #cateblanchett #ryanreynolds #angelinajolie #amberheard #jenniferaniston #bradpitt #spidermanfarfromhome #rihanna #juliaroberts #jenniferlawrence #dwaynejohnson #selenagomez #marvel #tomholland #missionimpossibleroguenation #missionimpossible #missionimpossiblefallout #ilsafaust               21\n",
       "Rebecca Ferguson💕. •\\nFollow @rebecca._ferguson for more!! • •\\n\\n#rebeccaferguson #tomcruise #hughjackman #emilyblunt #emmawatson #zacefron #zendaya #blakelively #annehathaway #sandrabullock #sarahpaulson #cateblanchett #ryanreynolds #angelinajolie #amberheard #jenniferaniston #bradpitt #spidermanfarfromhome #rihanna #juliaroberts #jenniferlawrence #dwaynejohnson #selenagomez #marvel #tomholland #willsmith #missionimpossibleroguenation #missionimpossible #missionimpossiblefallout #ilsafaust    18\n",
       "Name: caption, dtype: int64"
      ]
     },
     "execution_count": 15,
     "metadata": {},
     "output_type": "execute_result"
    }
   ],
   "source": [
    "df_posts_neg.caption.value_counts().head(10)"
   ]
  },
  {
   "cell_type": "markdown",
   "id": "4459a766",
   "metadata": {},
   "source": [
    "## Negative Users"
   ]
  },
  {
   "cell_type": "code",
   "execution_count": 16,
   "id": "baac7a88",
   "metadata": {},
   "outputs": [],
   "source": [
    "# To Load the dictionary negative commented users\n",
    "with open('negative_users.pkl', 'rb') as f:\n",
    "    neg_users = pickle.load(f)"
   ]
  },
  {
   "cell_type": "code",
   "execution_count": 17,
   "id": "a92cee24",
   "metadata": {},
   "outputs": [
    {
     "data": {
      "text/plain": [
       "14511"
      ]
     },
     "execution_count": 17,
     "metadata": {},
     "output_type": "execute_result"
    }
   ],
   "source": [
    "len(neg_users)"
   ]
  },
  {
   "cell_type": "markdown",
   "id": "e499a0d4",
   "metadata": {},
   "source": [
    "## Filter the data frame on usernames commented negatively"
   ]
  },
  {
   "cell_type": "code",
   "execution_count": 18,
   "id": "f839dd71",
   "metadata": {},
   "outputs": [
    {
     "data": {
      "text/plain": [
       "0"
      ]
     },
     "execution_count": 18,
     "metadata": {},
     "output_type": "execute_result"
    }
   ],
   "source": [
    "df_posts.username.isnull().sum()"
   ]
  },
  {
   "cell_type": "code",
   "execution_count": 19,
   "id": "01b8cfc8",
   "metadata": {},
   "outputs": [
    {
     "data": {
      "text/plain": [
       "(193967, 7)"
      ]
     },
     "execution_count": 19,
     "metadata": {},
     "output_type": "execute_result"
    }
   ],
   "source": [
    "df_posts.shape"
   ]
  },
  {
   "cell_type": "code",
   "execution_count": 20,
   "id": "2bd9e6de",
   "metadata": {},
   "outputs": [
    {
     "name": "stdout",
     "output_type": "stream",
     "text": [
      "(12956, 7)\n"
     ]
    },
    {
     "data": {
      "text/html": [
       "<div>\n",
       "<style scoped>\n",
       "    .dataframe tbody tr th:only-of-type {\n",
       "        vertical-align: middle;\n",
       "    }\n",
       "\n",
       "    .dataframe tbody tr th {\n",
       "        vertical-align: top;\n",
       "    }\n",
       "\n",
       "    .dataframe thead th {\n",
       "        text-align: right;\n",
       "    }\n",
       "</style>\n",
       "<table border=\"1\" class=\"dataframe\">\n",
       "  <thead>\n",
       "    <tr style=\"text-align: right;\">\n",
       "      <th></th>\n",
       "      <th>id</th>\n",
       "      <th>is_video</th>\n",
       "      <th>caption</th>\n",
       "      <th>location</th>\n",
       "      <th>user_id</th>\n",
       "      <th>username</th>\n",
       "      <th>account_url</th>\n",
       "    </tr>\n",
       "  </thead>\n",
       "  <tbody>\n",
       "    <tr>\n",
       "      <th>16</th>\n",
       "      <td>1908637391091057643</td>\n",
       "      <td>False</td>\n",
       "      <td>Repost @toddkrim It’s easy to be cynical, nega...</td>\n",
       "      <td>NaN</td>\n",
       "      <td>2078286518</td>\n",
       "      <td>amberheardit</td>\n",
       "      <td>https://www.instagram.com/amberheardit</td>\n",
       "    </tr>\n",
       "    <tr>\n",
       "      <th>27</th>\n",
       "      <td>2604641913295834897</td>\n",
       "      <td>True</td>\n",
       "      <td>Follow @alexandrradaddario_ 💋</td>\n",
       "      <td>NaN</td>\n",
       "      <td>33406416831</td>\n",
       "      <td>alexandrradaddario_</td>\n",
       "      <td>https://www.instagram.com/alexandrradaddario_</td>\n",
       "    </tr>\n",
       "    <tr>\n",
       "      <th>50</th>\n",
       "      <td>1943663541275322445</td>\n",
       "      <td>False</td>\n",
       "      <td>Um die ganze Review zu sehen, einfach auf die ...</td>\n",
       "      <td>NaN</td>\n",
       "      <td>286745995</td>\n",
       "      <td>joker.reviews</td>\n",
       "      <td>https://www.instagram.com/joker.reviews</td>\n",
       "    </tr>\n",
       "    <tr>\n",
       "      <th>93</th>\n",
       "      <td>1953628915251663067</td>\n",
       "      <td>False</td>\n",
       "      <td>NEW! #AmberHeard on the set of #HERSMELL 😍❤️ w...</td>\n",
       "      <td>NaN</td>\n",
       "      <td>2078286518</td>\n",
       "      <td>amberheardit</td>\n",
       "      <td>https://www.instagram.com/amberheardit</td>\n",
       "    </tr>\n",
       "    <tr>\n",
       "      <th>102</th>\n",
       "      <td>1996582814535078408</td>\n",
       "      <td>False</td>\n",
       "      <td>DC families! WW Fam, AquaFam and Shazam Family...</td>\n",
       "      <td>NaN</td>\n",
       "      <td>8637579322</td>\n",
       "      <td>superherofanboii</td>\n",
       "      <td>https://www.instagram.com/superherofanboii</td>\n",
       "    </tr>\n",
       "  </tbody>\n",
       "</table>\n",
       "</div>"
      ],
      "text/plain": [
       "                      id  is_video  \\\n",
       "16   1908637391091057643     False   \n",
       "27   2604641913295834897      True   \n",
       "50   1943663541275322445     False   \n",
       "93   1953628915251663067     False   \n",
       "102  1996582814535078408     False   \n",
       "\n",
       "                                               caption location      user_id  \\\n",
       "16   Repost @toddkrim It’s easy to be cynical, nega...      NaN   2078286518   \n",
       "27                       Follow @alexandrradaddario_ 💋      NaN  33406416831   \n",
       "50   Um die ganze Review zu sehen, einfach auf die ...      NaN    286745995   \n",
       "93   NEW! #AmberHeard on the set of #HERSMELL 😍❤️ w...      NaN   2078286518   \n",
       "102  DC families! WW Fam, AquaFam and Shazam Family...      NaN   8637579322   \n",
       "\n",
       "                username                                    account_url  \n",
       "16          amberheardit         https://www.instagram.com/amberheardit  \n",
       "27   alexandrradaddario_  https://www.instagram.com/alexandrradaddario_  \n",
       "50         joker.reviews        https://www.instagram.com/joker.reviews  \n",
       "93          amberheardit         https://www.instagram.com/amberheardit  \n",
       "102     superherofanboii     https://www.instagram.com/superherofanboii  "
      ]
     },
     "execution_count": 20,
     "metadata": {},
     "output_type": "execute_result"
    }
   ],
   "source": [
    "df_posts_sub2 = df_posts[df_posts.username.isin(neg_users)]\n",
    "print(df_posts_sub2.shape)\n",
    "df_posts_sub2.head()"
   ]
  },
  {
   "cell_type": "code",
   "execution_count": 21,
   "id": "0f643ecf",
   "metadata": {},
   "outputs": [
    {
     "data": {
      "text/plain": [
       ".\\n.\\n.\\n.\\n.\\n #chrisevans #handsome #steverogers #avengersendgame #captainamerica #steverogers #marvel #chrishemsworth #chrispratt #elizabetholsen #scarlettjohansson #paulrudd #chrispine #jakegyllenhaal #tomholland #michaelbjordan #sebastianstan #robertdowneyjr #muscle #fitnessmotivation #scotteastwood #dakotajohnson #amberheard #henrycavill #ryangosling #stephenamell #robertdowneyjr #tomhiddleston          134\n",
       ".\\n.\\n.\\n.\\n.\\n.\\n #chrisevans #handsome #steverogers #avengersendgame #captainamerica #steverogers #marvel #chrishemsworth #chrispratt #elizabetholsen #scarlettjohansson #paulrudd #chrispine #jakegyllenhaal #tomholland #michaelbjordan #sebastianstan #robertdowneyjr #muscle #fitnessmotivation #scotteastwood #dakotajohnson #amberheard #henrycavill #ryangosling #stephenamell #robertdowneyjr #tomhiddleston        99\n",
       ".\\n.\\n.\\n.\\n.\\n.\\n.\\n #chrisevans #handsome #steverogers #avengersendgame #captainamerica #steverogers #marvel #chrishemsworth #chrispratt #elizabetholsen #scarlettjohansson #paulrudd #chrispine #jakegyllenhaal #tomholland #michaelbjordan #sebastianstan #robertdowneyjr #muscle #fitnessmotivation #scotteastwood #dakotajohnson #amberheard #henrycavill #ryangosling #stephenamell #robertdowneyjr #tomhiddleston     93\n",
       "#johnnydepp #justiceforjohnnydepp #johnnydeppisinnocent #WeStandWithJohnnyDepp \\n#amberheardisaliar #amberheardisanabuser #amberheardusafraud #amberheardusagolddigger #amberturd #amberheard                                                                                                                                                                                                                                 51\n",
       "#justiceforjohnnydepp #amberheardisanabuser #JohnnyDepp #amberheard #piratesofthecaribbean #Aquaman                                                                                                                                                                                                                                                                                                                           40\n",
       "Name: caption, dtype: int64"
      ]
     },
     "execution_count": 21,
     "metadata": {},
     "output_type": "execute_result"
    }
   ],
   "source": [
    "df_posts_sub2.caption.value_counts().head()"
   ]
  },
  {
   "cell_type": "markdown",
   "id": "723992f8",
   "metadata": {},
   "source": [
    "## Merge Both DataFrames (negative text and negative users)"
   ]
  },
  {
   "cell_type": "code",
   "execution_count": 22,
   "id": "ceb69b1c",
   "metadata": {},
   "outputs": [
    {
     "name": "stdout",
     "output_type": "stream",
     "text": [
      "(21026, 7)\n"
     ]
    },
    {
     "data": {
      "text/html": [
       "<div>\n",
       "<style scoped>\n",
       "    .dataframe tbody tr th:only-of-type {\n",
       "        vertical-align: middle;\n",
       "    }\n",
       "\n",
       "    .dataframe tbody tr th {\n",
       "        vertical-align: top;\n",
       "    }\n",
       "\n",
       "    .dataframe thead th {\n",
       "        text-align: right;\n",
       "    }\n",
       "</style>\n",
       "<table border=\"1\" class=\"dataframe\">\n",
       "  <thead>\n",
       "    <tr style=\"text-align: right;\">\n",
       "      <th></th>\n",
       "      <th>id</th>\n",
       "      <th>is_video</th>\n",
       "      <th>caption</th>\n",
       "      <th>location</th>\n",
       "      <th>user_id</th>\n",
       "      <th>username</th>\n",
       "      <th>account_url</th>\n",
       "    </tr>\n",
       "  </thead>\n",
       "  <tbody>\n",
       "    <tr>\n",
       "      <th>0</th>\n",
       "      <td>2389292367830952143</td>\n",
       "      <td>False</td>\n",
       "      <td>Use #KarenGillanslover \\nThe smile kills me.😍😍...</td>\n",
       "      <td>NaN</td>\n",
       "      <td>18754453450</td>\n",
       "      <td>karen_gillans_lover</td>\n",
       "      <td>https://www.instagram.com/karen_gillans_lover</td>\n",
       "    </tr>\n",
       "    <tr>\n",
       "      <th>1</th>\n",
       "      <td>2284264314024432586</td>\n",
       "      <td>False</td>\n",
       "      <td>#amber\\n#amberheard #amberheardisanabuser\\n#am...</td>\n",
       "      <td>NaN</td>\n",
       "      <td>8244142730</td>\n",
       "      <td>allaboutamberheard</td>\n",
       "      <td>https://www.instagram.com/allaboutamberheard</td>\n",
       "    </tr>\n",
       "    <tr>\n",
       "      <th>2</th>\n",
       "      <td>2424793886009164262</td>\n",
       "      <td>False</td>\n",
       "      <td>The 22 📸-year-old, who attending the Cannes Fi...</td>\n",
       "      <td>NaN</td>\n",
       "      <td>8682440340</td>\n",
       "      <td>kristeen_stewarrt</td>\n",
       "      <td>https://www.instagram.com/kristeen_stewarrt</td>\n",
       "    </tr>\n",
       "    <tr>\n",
       "      <th>3</th>\n",
       "      <td>2316509445116749874</td>\n",
       "      <td>False</td>\n",
       "      <td>#boycottloreal #amberheard #johnnydepp #domest...</td>\n",
       "      <td>NaN</td>\n",
       "      <td>35884410125</td>\n",
       "      <td>menlyvibes</td>\n",
       "      <td>https://www.instagram.com/menlyvibes</td>\n",
       "    </tr>\n",
       "    <tr>\n",
       "      <th>4</th>\n",
       "      <td>2469408055960567417</td>\n",
       "      <td>True</td>\n",
       "      <td>I love Johnny sm he's the best guy in Hollywoo...</td>\n",
       "      <td>NaN</td>\n",
       "      <td>30323288244</td>\n",
       "      <td>nffanepage</td>\n",
       "      <td>https://www.instagram.com/nffanepage</td>\n",
       "    </tr>\n",
       "  </tbody>\n",
       "</table>\n",
       "</div>"
      ],
      "text/plain": [
       "                    id  is_video  \\\n",
       "0  2389292367830952143     False   \n",
       "1  2284264314024432586     False   \n",
       "2  2424793886009164262     False   \n",
       "3  2316509445116749874     False   \n",
       "4  2469408055960567417      True   \n",
       "\n",
       "                                             caption location      user_id  \\\n",
       "0  Use #KarenGillanslover \\nThe smile kills me.😍😍...      NaN  18754453450   \n",
       "1  #amber\\n#amberheard #amberheardisanabuser\\n#am...      NaN   8244142730   \n",
       "2  The 22 📸-year-old, who attending the Cannes Fi...      NaN   8682440340   \n",
       "3  #boycottloreal #amberheard #johnnydepp #domest...      NaN  35884410125   \n",
       "4  I love Johnny sm he's the best guy in Hollywoo...      NaN  30323288244   \n",
       "\n",
       "              username                                    account_url  \n",
       "0  karen_gillans_lover  https://www.instagram.com/karen_gillans_lover  \n",
       "1   allaboutamberheard   https://www.instagram.com/allaboutamberheard  \n",
       "2    kristeen_stewarrt    https://www.instagram.com/kristeen_stewarrt  \n",
       "3           menlyvibes           https://www.instagram.com/menlyvibes  \n",
       "4           nffanepage           https://www.instagram.com/nffanepage  "
      ]
     },
     "execution_count": 22,
     "metadata": {},
     "output_type": "execute_result"
    }
   ],
   "source": [
    "df_posts_sub = pd.concat([df_posts_neg,df_posts_sub2]).drop_duplicates().reset_index(drop=True)\n",
    "print(df_posts_sub.shape)\n",
    "df_posts_sub.head()"
   ]
  },
  {
   "cell_type": "code",
   "execution_count": 23,
   "id": "e0f73839",
   "metadata": {},
   "outputs": [
    {
     "data": {
      "text/plain": [
       ".\\n.\\n.\\n.\\n.\\n #chrisevans #handsome #steverogers #avengersendgame #captainamerica #steverogers #marvel #chrishemsworth #chrispratt #elizabetholsen #scarlettjohansson #paulrudd #chrispine #jakegyllenhaal #tomholland #michaelbjordan #sebastianstan #robertdowneyjr #muscle #fitnessmotivation #scotteastwood #dakotajohnson #amberheard #henrycavill #ryangosling #stephenamell #robertdowneyjr #tomhiddleston          134\n",
       ".\\n.\\n.\\n.\\n.\\n.\\n #chrisevans #handsome #steverogers #avengersendgame #captainamerica #steverogers #marvel #chrishemsworth #chrispratt #elizabetholsen #scarlettjohansson #paulrudd #chrispine #jakegyllenhaal #tomholland #michaelbjordan #sebastianstan #robertdowneyjr #muscle #fitnessmotivation #scotteastwood #dakotajohnson #amberheard #henrycavill #ryangosling #stephenamell #robertdowneyjr #tomhiddleston        99\n",
       ".\\n.\\n.\\n.\\n.\\n.\\n.\\n #chrisevans #handsome #steverogers #avengersendgame #captainamerica #steverogers #marvel #chrishemsworth #chrispratt #elizabetholsen #scarlettjohansson #paulrudd #chrispine #jakegyllenhaal #tomholland #michaelbjordan #sebastianstan #robertdowneyjr #muscle #fitnessmotivation #scotteastwood #dakotajohnson #amberheard #henrycavill #ryangosling #stephenamell #robertdowneyjr #tomhiddleston     93\n",
       "#johnnydepp #justiceforjohnnydepp #johnnydeppisinnocent #WeStandWithJohnnyDepp \\n#amberheardisaliar #amberheardisanabuser #amberheardusafraud #amberheardusagolddigger #amberturd #amberheard                                                                                                                                                                                                                                 51\n",
       "#AmberHeard is an #American #actress . She made her film debut in 2004 in the sports drama #FridayNightLights #model #Celebrity #Hollywood \\n#Upcomingmovies :\\xa0#Aquaman ,\\xa0#LondonFields\\n#series #TVShows : #CriminalMinds #ThePlayboyClub #HiddenPalms #Overhaulin\\n#Movies : #JusticeLeague #MagicMike #MagicMikeXXL #driveangry #3daystokill and..                                                                   51\n",
       "Name: caption, dtype: int64"
      ]
     },
     "execution_count": 23,
     "metadata": {},
     "output_type": "execute_result"
    }
   ],
   "source": [
    "df_posts_sub.caption.value_counts().head()"
   ]
  },
  {
   "cell_type": "markdown",
   "id": "84ec6552",
   "metadata": {},
   "source": [
    "<a id='top_posted'></a>\n",
    ">### Top posted users\n",
    "> <ul>\n",
    " <li><a href=\"#top_posted\"><b>Top Negatively Posted Users</b></a></li>\n",
    " <li><a href=\"#captions\">Negative Captions</a></li>  \n",
    " <li><a href=\"#image_video\">Image or Video</a></li>  \n",
    " <li><a href=\"#loc\">Locations</a></li>  \n",
    " </ul>"
   ]
  },
  {
   "cell_type": "code",
   "execution_count": 24,
   "id": "244e7456",
   "metadata": {},
   "outputs": [
    {
     "data": {
      "text/html": [
       "<div>\n",
       "<style scoped>\n",
       "    .dataframe tbody tr th:only-of-type {\n",
       "        vertical-align: middle;\n",
       "    }\n",
       "\n",
       "    .dataframe tbody tr th {\n",
       "        vertical-align: top;\n",
       "    }\n",
       "\n",
       "    .dataframe thead th {\n",
       "        text-align: right;\n",
       "    }\n",
       "</style>\n",
       "<table border=\"1\" class=\"dataframe\">\n",
       "  <thead>\n",
       "    <tr style=\"text-align: right;\">\n",
       "      <th></th>\n",
       "      <th>username</th>\n",
       "      <th>n_posts</th>\n",
       "    </tr>\n",
       "  </thead>\n",
       "  <tbody>\n",
       "    <tr>\n",
       "      <th>0</th>\n",
       "      <td>becauseitsjohnnydepp</td>\n",
       "      <td>432</td>\n",
       "    </tr>\n",
       "    <tr>\n",
       "      <th>1</th>\n",
       "      <td>ambe.rheard</td>\n",
       "      <td>344</td>\n",
       "    </tr>\n",
       "    <tr>\n",
       "      <th>2</th>\n",
       "      <td>johnguerr56</td>\n",
       "      <td>250</td>\n",
       "    </tr>\n",
       "    <tr>\n",
       "      <th>3</th>\n",
       "      <td>rebecca._ferguson</td>\n",
       "      <td>246</td>\n",
       "    </tr>\n",
       "    <tr>\n",
       "      <th>4</th>\n",
       "      <td>jd_sweetprince</td>\n",
       "      <td>234</td>\n",
       "    </tr>\n",
       "    <tr>\n",
       "      <th>5</th>\n",
       "      <td>_justice_for_johnnydepp</td>\n",
       "      <td>212</td>\n",
       "    </tr>\n",
       "    <tr>\n",
       "      <th>6</th>\n",
       "      <td>heard_addicted</td>\n",
       "      <td>199</td>\n",
       "    </tr>\n",
       "    <tr>\n",
       "      <th>7</th>\n",
       "      <td>exposingamberlheard</td>\n",
       "      <td>177</td>\n",
       "    </tr>\n",
       "    <tr>\n",
       "      <th>8</th>\n",
       "      <td>_dope_black_unicorn_</td>\n",
       "      <td>159</td>\n",
       "    </tr>\n",
       "    <tr>\n",
       "      <th>9</th>\n",
       "      <td>amberheard_edits</td>\n",
       "      <td>145</td>\n",
       "    </tr>\n",
       "  </tbody>\n",
       "</table>\n",
       "</div>"
      ],
      "text/plain": [
       "                  username  n_posts\n",
       "0     becauseitsjohnnydepp      432\n",
       "1              ambe.rheard      344\n",
       "2              johnguerr56      250\n",
       "3        rebecca._ferguson      246\n",
       "4           jd_sweetprince      234\n",
       "5  _justice_for_johnnydepp      212\n",
       "6           heard_addicted      199\n",
       "7      exposingamberlheard      177\n",
       "8     _dope_black_unicorn_      159\n",
       "9         amberheard_edits      145"
      ]
     },
     "execution_count": 24,
     "metadata": {},
     "output_type": "execute_result"
    }
   ],
   "source": [
    "df_top_users_posts = get_top(\n",
    "    df_posts_neg, col=\"username\", n=10, column_name=\"username\", count_name=\"n_posts\"\n",
    ")\n",
    "df_top_users_posts"
   ]
  },
  {
   "cell_type": "code",
   "execution_count": 25,
   "id": "296b8806",
   "metadata": {},
   "outputs": [
    {
     "data": {
      "image/svg+xml": [
       "<svg class=\"main-svg\" xmlns=\"http://www.w3.org/2000/svg\" xmlns:xlink=\"http://www.w3.org/1999/xlink\" width=\"950\" height=\"550\" style=\"\" viewBox=\"0 0 950 550\"><rect x=\"0\" y=\"0\" width=\"950\" height=\"550\" style=\"fill: rgb(255, 255, 255); fill-opacity: 1;\"/><defs id=\"defs-32c3e6\"><g class=\"clips\"><clipPath id=\"clip32c3e6xyplot\" class=\"plotclip\"><rect width=\"697\" height=\"370\"/></clipPath><clipPath class=\"axesclip\" id=\"clip32c3e6x\"><rect x=\"173\" y=\"0\" width=\"697\" height=\"550\"/></clipPath><clipPath class=\"axesclip\" id=\"clip32c3e6y\"><rect x=\"0\" y=\"100\" width=\"950\" height=\"370\"/></clipPath><clipPath class=\"axesclip\" id=\"clip32c3e6xy\"><rect x=\"173\" y=\"100\" width=\"697\" height=\"370\"/></clipPath></g><g class=\"gradients\"/><g class=\"patterns\"/></defs><g class=\"bglayer\"><rect class=\"bg\" x=\"173\" y=\"100\" width=\"697\" height=\"370\" style=\"fill: rgb(229, 236, 246); fill-opacity: 1; stroke-width: 0;\"/></g><g class=\"layer-below\"><g class=\"imagelayer\"/><g class=\"shapelayer\"/></g><g class=\"cartesianlayer\"><g class=\"subplot xy\"><g class=\"layer-subplot\"><g class=\"shapelayer\"/><g class=\"imagelayer\"/></g><g class=\"gridlayer\"><g class=\"x\"><path class=\"xgrid crisp\" transform=\"translate(249.64,0)\" d=\"M0,100v370\" style=\"stroke: rgb(255, 255, 255); stroke-opacity: 1; stroke-width: 1px;\"/><path class=\"xgrid crisp\" transform=\"translate(326.28,0)\" d=\"M0,100v370\" style=\"stroke: rgb(255, 255, 255); stroke-opacity: 1; stroke-width: 1px;\"/><path class=\"xgrid crisp\" transform=\"translate(402.90999999999997,0)\" d=\"M0,100v370\" style=\"stroke: rgb(255, 255, 255); stroke-opacity: 1; stroke-width: 1px;\"/><path class=\"xgrid crisp\" transform=\"translate(479.55,0)\" d=\"M0,100v370\" style=\"stroke: rgb(255, 255, 255); stroke-opacity: 1; stroke-width: 1px;\"/><path class=\"xgrid crisp\" transform=\"translate(556.19,0)\" d=\"M0,100v370\" style=\"stroke: rgb(255, 255, 255); stroke-opacity: 1; stroke-width: 1px;\"/><path class=\"xgrid crisp\" transform=\"translate(632.8299999999999,0)\" d=\"M0,100v370\" style=\"stroke: rgb(255, 255, 255); stroke-opacity: 1; stroke-width: 1px;\"/><path class=\"xgrid crisp\" transform=\"translate(709.46,0)\" d=\"M0,100v370\" style=\"stroke: rgb(255, 255, 255); stroke-opacity: 1; stroke-width: 1px;\"/><path class=\"xgrid crisp\" transform=\"translate(786.1,0)\" d=\"M0,100v370\" style=\"stroke: rgb(255, 255, 255); stroke-opacity: 1; stroke-width: 1px;\"/><path class=\"xgrid crisp\" transform=\"translate(862.74,0)\" d=\"M0,100v370\" style=\"stroke: rgb(255, 255, 255); stroke-opacity: 1; stroke-width: 1px;\"/></g><g class=\"y\"/></g><g class=\"zerolinelayer\"><path class=\"xzl zl crisp\" transform=\"translate(173,0)\" d=\"M0,100v370\" style=\"stroke: rgb(255, 255, 255); stroke-opacity: 1; stroke-width: 2px;\"/></g><path class=\"xlines-below\"/><path class=\"ylines-below\"/><g class=\"overlines-below\"/><g class=\"xaxislayer-below\"/><g class=\"yaxislayer-below\"/><g class=\"overaxes-below\"/><g class=\"plot\" transform=\"translate(173,100)\" clip-path=\"url(#clip32c3e6xyplot)\"><g class=\"barlayer mlayer\"><g class=\"trace bars\" style=\"opacity: 1;\"><g class=\"points\"><g class=\"point\"><path d=\"M0,3.7V33.3H662.15V3.7Z\" style=\"vector-effect: non-scaling-stroke; opacity: 1; stroke-width: 0.5px; fill: rgb(255, 0, 0); fill-opacity: 1; stroke: rgb(229, 236, 246); stroke-opacity: 1;\"/><text class=\"bartext bartext-inside\" text-anchor=\"middle\" data-notex=\"1\" x=\"0\" y=\"0\" style=\"font-family: 'Open Sans', verdana, arial, sans-serif; font-size: 12px; fill: rgb(255, 255, 255); fill-opacity: 1; white-space: pre;\" transform=\"translate(648.853125,23.25)\">432</text></g><g class=\"point\"><path d=\"M0,40.7V70.3H527.27V40.7Z\" style=\"vector-effect: non-scaling-stroke; opacity: 1; stroke-width: 0.5px; fill: rgb(255, 0, 0); fill-opacity: 1; stroke: rgb(229, 236, 246); stroke-opacity: 1;\"/><text class=\"bartext bartext-inside\" text-anchor=\"middle\" data-notex=\"1\" x=\"0\" y=\"0\" style=\"font-family: 'Open Sans', verdana, arial, sans-serif; font-size: 12px; fill: rgb(255, 255, 255); fill-opacity: 1; white-space: pre;\" transform=\"translate(513.973125,60.25)\">344</text></g><g class=\"point\"><path d=\"M0,77.7V107.3H383.19V77.7Z\" style=\"vector-effect: non-scaling-stroke; opacity: 1; stroke-width: 0.5px; fill: rgb(255, 0, 0); fill-opacity: 1; stroke: rgb(229, 236, 246); stroke-opacity: 1;\"/><text class=\"bartext bartext-inside\" text-anchor=\"middle\" data-notex=\"1\" x=\"0\" y=\"0\" style=\"font-family: 'Open Sans', verdana, arial, sans-serif; font-size: 12px; fill: rgb(255, 255, 255); fill-opacity: 1; white-space: pre;\" transform=\"translate(369.893125,97.25)\">250</text></g><g class=\"point\"><path d=\"M0,114.7V144.3H377.06V114.7Z\" style=\"vector-effect: non-scaling-stroke; opacity: 1; stroke-width: 0.5px; fill: rgb(255, 0, 0); fill-opacity: 1; stroke: rgb(229, 236, 246); stroke-opacity: 1;\"/><text class=\"bartext bartext-inside\" text-anchor=\"middle\" data-notex=\"1\" x=\"0\" y=\"0\" style=\"font-family: 'Open Sans', verdana, arial, sans-serif; font-size: 12px; fill: rgb(255, 255, 255); fill-opacity: 1; white-space: pre;\" transform=\"translate(363.763125,134.25)\">246</text></g><g class=\"point\"><path d=\"M0,151.7V181.3H358.66V151.7Z\" style=\"vector-effect: non-scaling-stroke; opacity: 1; stroke-width: 0.5px; fill: rgb(255, 0, 0); fill-opacity: 1; stroke: rgb(229, 236, 246); stroke-opacity: 1;\"/><text class=\"bartext bartext-inside\" text-anchor=\"middle\" data-notex=\"1\" x=\"0\" y=\"0\" style=\"font-family: 'Open Sans', verdana, arial, sans-serif; font-size: 12px; fill: rgb(255, 255, 255); fill-opacity: 1; white-space: pre;\" transform=\"translate(345.363125,171.25)\">234</text></g><g class=\"point\"><path d=\"M0,188.7V218.3H324.94V188.7Z\" style=\"vector-effect: non-scaling-stroke; opacity: 1; stroke-width: 0.5px; fill: rgb(255, 0, 0); fill-opacity: 1; stroke: rgb(229, 236, 246); stroke-opacity: 1;\"/><text class=\"bartext bartext-inside\" text-anchor=\"middle\" data-notex=\"1\" x=\"0\" y=\"0\" style=\"font-family: 'Open Sans', verdana, arial, sans-serif; font-size: 12px; fill: rgb(255, 255, 255); fill-opacity: 1; white-space: pre;\" transform=\"translate(311.643125,208.25)\">212</text></g><g class=\"point\"><path d=\"M0,225.7V255.3H305.02V225.7Z\" style=\"vector-effect: non-scaling-stroke; opacity: 1; stroke-width: 0.5px; fill: rgb(255, 0, 0); fill-opacity: 1; stroke: rgb(229, 236, 246); stroke-opacity: 1;\"/><text class=\"bartext bartext-inside\" text-anchor=\"middle\" data-notex=\"1\" x=\"0\" y=\"0\" style=\"font-family: 'Open Sans', verdana, arial, sans-serif; font-size: 12px; fill: rgb(255, 255, 255); fill-opacity: 1; white-space: pre;\" transform=\"translate(291.723125,245.25)\">199</text></g><g class=\"point\"><path d=\"M0,262.7V292.3H271.3V262.7Z\" style=\"vector-effect: non-scaling-stroke; opacity: 1; stroke-width: 0.5px; fill: rgb(255, 0, 0); fill-opacity: 1; stroke: rgb(229, 236, 246); stroke-opacity: 1;\"/><text class=\"bartext bartext-inside\" text-anchor=\"middle\" data-notex=\"1\" x=\"0\" y=\"0\" style=\"font-family: 'Open Sans', verdana, arial, sans-serif; font-size: 12px; fill: rgb(255, 255, 255); fill-opacity: 1; white-space: pre;\" transform=\"translate(258.003125,282.25)\">177</text></g><g class=\"point\"><path d=\"M0,299.7V329.3H243.71V299.7Z\" style=\"vector-effect: non-scaling-stroke; opacity: 1; stroke-width: 0.5px; fill: rgb(255, 0, 0); fill-opacity: 1; stroke: rgb(229, 236, 246); stroke-opacity: 1;\"/><text class=\"bartext bartext-inside\" text-anchor=\"middle\" data-notex=\"1\" x=\"0\" y=\"0\" style=\"font-family: 'Open Sans', verdana, arial, sans-serif; font-size: 12px; fill: rgb(255, 255, 255); fill-opacity: 1; white-space: pre;\" transform=\"translate(230.413125,319.25)\">159</text></g><g class=\"point\"><path d=\"M0,336.7V366.3H222.25V336.7Z\" style=\"vector-effect: non-scaling-stroke; opacity: 1; stroke-width: 0.5px; fill: rgb(255, 0, 0); fill-opacity: 1; stroke: rgb(229, 236, 246); stroke-opacity: 1;\"/><text class=\"bartext bartext-inside\" text-anchor=\"middle\" data-notex=\"1\" x=\"0\" y=\"0\" style=\"font-family: 'Open Sans', verdana, arial, sans-serif; font-size: 12px; fill: rgb(255, 255, 255); fill-opacity: 1; white-space: pre;\" transform=\"translate(208.953125,356.25)\">145</text></g></g></g></g></g><g class=\"overplot\"/><path class=\"xlines-above crisp\" d=\"M0,0\" style=\"fill: none;\"/><path class=\"ylines-above crisp\" d=\"M0,0\" style=\"fill: none;\"/><g class=\"overlines-above\"/><g class=\"xaxislayer-above\"><g class=\"xtick\"><text text-anchor=\"middle\" x=\"0\" y=\"483\" transform=\"translate(173,0)\" style=\"font-family: 'Open Sans', verdana, arial, sans-serif; font-size: 12px; fill: rgb(42, 63, 95); fill-opacity: 1; white-space: pre; opacity: 1;\">0</text></g><g class=\"xtick\"><text text-anchor=\"middle\" x=\"0\" y=\"483\" style=\"font-family: 'Open Sans', verdana, arial, sans-serif; font-size: 12px; fill: rgb(42, 63, 95); fill-opacity: 1; white-space: pre; opacity: 1;\" transform=\"translate(249.64,0)\">50</text></g><g class=\"xtick\"><text text-anchor=\"middle\" x=\"0\" y=\"483\" style=\"font-family: 'Open Sans', verdana, arial, sans-serif; font-size: 12px; fill: rgb(42, 63, 95); fill-opacity: 1; white-space: pre; opacity: 1;\" transform=\"translate(326.28,0)\">100</text></g><g class=\"xtick\"><text text-anchor=\"middle\" x=\"0\" y=\"483\" style=\"font-family: 'Open Sans', verdana, arial, sans-serif; font-size: 12px; fill: rgb(42, 63, 95); fill-opacity: 1; white-space: pre; opacity: 1;\" transform=\"translate(402.90999999999997,0)\">150</text></g><g class=\"xtick\"><text text-anchor=\"middle\" x=\"0\" y=\"483\" style=\"font-family: 'Open Sans', verdana, arial, sans-serif; font-size: 12px; fill: rgb(42, 63, 95); fill-opacity: 1; white-space: pre; opacity: 1;\" transform=\"translate(479.55,0)\">200</text></g><g class=\"xtick\"><text text-anchor=\"middle\" x=\"0\" y=\"483\" style=\"font-family: 'Open Sans', verdana, arial, sans-serif; font-size: 12px; fill: rgb(42, 63, 95); fill-opacity: 1; white-space: pre; opacity: 1;\" transform=\"translate(556.19,0)\">250</text></g><g class=\"xtick\"><text text-anchor=\"middle\" x=\"0\" y=\"483\" style=\"font-family: 'Open Sans', verdana, arial, sans-serif; font-size: 12px; fill: rgb(42, 63, 95); fill-opacity: 1; white-space: pre; opacity: 1;\" transform=\"translate(632.8299999999999,0)\">300</text></g><g class=\"xtick\"><text text-anchor=\"middle\" x=\"0\" y=\"483\" style=\"font-family: 'Open Sans', verdana, arial, sans-serif; font-size: 12px; fill: rgb(42, 63, 95); fill-opacity: 1; white-space: pre; opacity: 1;\" transform=\"translate(709.46,0)\">350</text></g><g class=\"xtick\"><text text-anchor=\"middle\" x=\"0\" y=\"483\" style=\"font-family: 'Open Sans', verdana, arial, sans-serif; font-size: 12px; fill: rgb(42, 63, 95); fill-opacity: 1; white-space: pre; opacity: 1;\" transform=\"translate(786.1,0)\">400</text></g><g class=\"xtick\"><text text-anchor=\"middle\" x=\"0\" y=\"483\" style=\"font-family: 'Open Sans', verdana, arial, sans-serif; font-size: 12px; fill: rgb(42, 63, 95); fill-opacity: 1; white-space: pre; opacity: 1;\" transform=\"translate(862.74,0)\">450</text></g></g><g class=\"yaxislayer-above\"><g class=\"ytick\"><text text-anchor=\"end\" x=\"172\" y=\"4.199999999999999\" transform=\"translate(0,451.5)\" style=\"font-family: 'Open Sans', verdana, arial, sans-serif; font-size: 12px; fill: rgb(42, 63, 95); fill-opacity: 1; white-space: pre; opacity: 1;\">amberheard_edits</text></g><g class=\"ytick\"><text text-anchor=\"end\" x=\"172\" y=\"4.199999999999999\" transform=\"translate(0,414.5)\" style=\"font-family: 'Open Sans', verdana, arial, sans-serif; font-size: 12px; fill: rgb(42, 63, 95); fill-opacity: 1; white-space: pre; opacity: 1;\">_dope_black_unicorn_</text></g><g class=\"ytick\"><text text-anchor=\"end\" x=\"172\" y=\"4.199999999999999\" transform=\"translate(0,377.5)\" style=\"font-family: 'Open Sans', verdana, arial, sans-serif; font-size: 12px; fill: rgb(42, 63, 95); fill-opacity: 1; white-space: pre; opacity: 1;\">exposingamberlheard</text></g><g class=\"ytick\"><text text-anchor=\"end\" x=\"172\" y=\"4.199999999999999\" transform=\"translate(0,340.5)\" style=\"font-family: 'Open Sans', verdana, arial, sans-serif; font-size: 12px; fill: rgb(42, 63, 95); fill-opacity: 1; white-space: pre; opacity: 1;\">heard_addicted</text></g><g class=\"ytick\"><text text-anchor=\"end\" x=\"172\" y=\"4.199999999999999\" transform=\"translate(0,303.5)\" style=\"font-family: 'Open Sans', verdana, arial, sans-serif; font-size: 12px; fill: rgb(42, 63, 95); fill-opacity: 1; white-space: pre; opacity: 1;\">_justice_for_johnnydepp</text></g><g class=\"ytick\"><text text-anchor=\"end\" x=\"172\" y=\"4.199999999999999\" transform=\"translate(0,266.5)\" style=\"font-family: 'Open Sans', verdana, arial, sans-serif; font-size: 12px; fill: rgb(42, 63, 95); fill-opacity: 1; white-space: pre; opacity: 1;\">jd_sweetprince</text></g><g class=\"ytick\"><text text-anchor=\"end\" x=\"172\" y=\"4.199999999999999\" transform=\"translate(0,229.5)\" style=\"font-family: 'Open Sans', verdana, arial, sans-serif; font-size: 12px; fill: rgb(42, 63, 95); fill-opacity: 1; white-space: pre; opacity: 1;\">rebecca._ferguson</text></g><g class=\"ytick\"><text text-anchor=\"end\" x=\"172\" y=\"4.199999999999999\" transform=\"translate(0,192.5)\" style=\"font-family: 'Open Sans', verdana, arial, sans-serif; font-size: 12px; fill: rgb(42, 63, 95); fill-opacity: 1; white-space: pre; opacity: 1;\">johnguerr56</text></g><g class=\"ytick\"><text text-anchor=\"end\" x=\"172\" y=\"4.199999999999999\" transform=\"translate(0,155.5)\" style=\"font-family: 'Open Sans', verdana, arial, sans-serif; font-size: 12px; fill: rgb(42, 63, 95); fill-opacity: 1; white-space: pre; opacity: 1;\">ambe.rheard</text></g><g class=\"ytick\"><text text-anchor=\"end\" x=\"172\" y=\"4.199999999999999\" transform=\"translate(0,118.5)\" style=\"font-family: 'Open Sans', verdana, arial, sans-serif; font-size: 12px; fill: rgb(42, 63, 95); fill-opacity: 1; white-space: pre; opacity: 1;\">becauseitsjohnnydepp</text></g></g><g class=\"overaxes-above\"/></g></g><g class=\"polarlayer\"/><g class=\"ternarylayer\"/><g class=\"geolayer\"/><g class=\"funnelarealayer\"/><g class=\"pielayer\"/><g class=\"iciclelayer\"/><g class=\"treemaplayer\"/><g class=\"sunburstlayer\"/><g class=\"glimages\"/><defs id=\"topdefs-32c3e6\"><g class=\"clips\"/></defs><g class=\"layer-above\"><g class=\"imagelayer\"/><g class=\"shapelayer\"/></g><g class=\"infolayer\"><g class=\"g-gtitle\"><text class=\"gtitle\" x=\"47.5\" y=\"50\" text-anchor=\"start\" dy=\"0em\" style=\"font-family: 'Open Sans', verdana, arial, sans-serif; font-size: 17px; fill: rgb(42, 63, 95); opacity: 1; font-weight: normal; white-space: pre;\">Most posted users</text></g><g class=\"g-xtitle\"><text class=\"xtitle\" x=\"521.5\" y=\"511.3\" text-anchor=\"middle\" style=\"font-family: 'Open Sans', verdana, arial, sans-serif; font-size: 14px; fill: rgb(42, 63, 95); opacity: 1; font-weight: normal; white-space: pre;\">n_posts</text></g><g class=\"g-ytitle\" transform=\"translate(3.2373046875,0)\"><text class=\"ytitle\" transform=\"rotate(-90,11.762499999999989,285)\" x=\"11.762499999999989\" y=\"285\" text-anchor=\"middle\" style=\"font-family: 'Open Sans', verdana, arial, sans-serif; font-size: 14px; fill: rgb(42, 63, 95); opacity: 1; font-weight: normal; white-space: pre;\">username</text></g></g></svg>"
      ]
     },
     "metadata": {},
     "output_type": "display_data"
    }
   ],
   "source": [
    "barh(df_top_users_posts, \"Most posted users\", 0)"
   ]
  },
  {
   "cell_type": "markdown",
   "id": "583bd7ad",
   "metadata": {},
   "source": [
    "<a id='captions'></a>\n",
    ">### Captions\n",
    "> <ul>\n",
    " <li><a href=\"#top_posted\">Top Negatively Posted Users</a></li>\n",
    " <li><a href=\"#captions\"><b>Negative Captions</b></a></li>  \n",
    " <li><a href=\"#image_video\">Image or Video</a></li>  \n",
    " <li><a href=\"#loc\">Locations</a></li>  \n",
    " </ul>"
   ]
  },
  {
   "cell_type": "code",
   "execution_count": 26,
   "id": "0842ba33",
   "metadata": {},
   "outputs": [
    {
     "name": "stdout",
     "output_type": "stream",
     "text": [
      "(11535, 7)\n"
     ]
    },
    {
     "data": {
      "text/html": [
       "<div>\n",
       "<style scoped>\n",
       "    .dataframe tbody tr th:only-of-type {\n",
       "        vertical-align: middle;\n",
       "    }\n",
       "\n",
       "    .dataframe tbody tr th {\n",
       "        vertical-align: top;\n",
       "    }\n",
       "\n",
       "    .dataframe thead th {\n",
       "        text-align: right;\n",
       "    }\n",
       "</style>\n",
       "<table border=\"1\" class=\"dataframe\">\n",
       "  <thead>\n",
       "    <tr style=\"text-align: right;\">\n",
       "      <th></th>\n",
       "      <th>id</th>\n",
       "      <th>is_video</th>\n",
       "      <th>caption</th>\n",
       "      <th>location</th>\n",
       "      <th>user_id</th>\n",
       "      <th>username</th>\n",
       "      <th>account_url</th>\n",
       "    </tr>\n",
       "  </thead>\n",
       "  <tbody>\n",
       "    <tr>\n",
       "      <th>3</th>\n",
       "      <td>2389292367830952143</td>\n",
       "      <td>False</td>\n",
       "      <td>Use #KarenGillanslover \\nThe smile kills me.😍😍...</td>\n",
       "      <td>NaN</td>\n",
       "      <td>18754453450</td>\n",
       "      <td>karen_gillans_lover</td>\n",
       "      <td>https://www.instagram.com/karen_gillans_lover</td>\n",
       "    </tr>\n",
       "    <tr>\n",
       "      <th>21</th>\n",
       "      <td>2284264314024432586</td>\n",
       "      <td>False</td>\n",
       "      <td>#amber\\n#amberheard #amberheardisanabuser\\n#am...</td>\n",
       "      <td>NaN</td>\n",
       "      <td>8244142730</td>\n",
       "      <td>allaboutamberheard</td>\n",
       "      <td>https://www.instagram.com/allaboutamberheard</td>\n",
       "    </tr>\n",
       "    <tr>\n",
       "      <th>44</th>\n",
       "      <td>2424793886009164262</td>\n",
       "      <td>False</td>\n",
       "      <td>The 22 📸-year-old, who attending the Cannes Fi...</td>\n",
       "      <td>NaN</td>\n",
       "      <td>8682440340</td>\n",
       "      <td>kristeen_stewarrt</td>\n",
       "      <td>https://www.instagram.com/kristeen_stewarrt</td>\n",
       "    </tr>\n",
       "    <tr>\n",
       "      <th>57</th>\n",
       "      <td>2316509445116749874</td>\n",
       "      <td>False</td>\n",
       "      <td>#boycottloreal #amberheard #johnnydepp #domest...</td>\n",
       "      <td>NaN</td>\n",
       "      <td>35884410125</td>\n",
       "      <td>menlyvibes</td>\n",
       "      <td>https://www.instagram.com/menlyvibes</td>\n",
       "    </tr>\n",
       "    <tr>\n",
       "      <th>71</th>\n",
       "      <td>2469408055960567417</td>\n",
       "      <td>True</td>\n",
       "      <td>I love Johnny sm he's the best guy in Hollywoo...</td>\n",
       "      <td>NaN</td>\n",
       "      <td>30323288244</td>\n",
       "      <td>nffanepage</td>\n",
       "      <td>https://www.instagram.com/nffanepage</td>\n",
       "    </tr>\n",
       "  </tbody>\n",
       "</table>\n",
       "</div>"
      ],
      "text/plain": [
       "                     id  is_video  \\\n",
       "3   2389292367830952143     False   \n",
       "21  2284264314024432586     False   \n",
       "44  2424793886009164262     False   \n",
       "57  2316509445116749874     False   \n",
       "71  2469408055960567417      True   \n",
       "\n",
       "                                              caption location      user_id  \\\n",
       "3   Use #KarenGillanslover \\nThe smile kills me.😍😍...      NaN  18754453450   \n",
       "21  #amber\\n#amberheard #amberheardisanabuser\\n#am...      NaN   8244142730   \n",
       "44  The 22 📸-year-old, who attending the Cannes Fi...      NaN   8682440340   \n",
       "57  #boycottloreal #amberheard #johnnydepp #domest...      NaN  35884410125   \n",
       "71  I love Johnny sm he's the best guy in Hollywoo...      NaN  30323288244   \n",
       "\n",
       "               username                                    account_url  \n",
       "3   karen_gillans_lover  https://www.instagram.com/karen_gillans_lover  \n",
       "21   allaboutamberheard   https://www.instagram.com/allaboutamberheard  \n",
       "44    kristeen_stewarrt    https://www.instagram.com/kristeen_stewarrt  \n",
       "57           menlyvibes           https://www.instagram.com/menlyvibes  \n",
       "71           nffanepage           https://www.instagram.com/nffanepage  "
      ]
     },
     "execution_count": 26,
     "metadata": {},
     "output_type": "execute_result"
    }
   ],
   "source": [
    "print(df_posts_neg.shape)\n",
    "df_posts_neg.head()"
   ]
  },
  {
   "cell_type": "code",
   "execution_count": 27,
   "id": "390a514a",
   "metadata": {},
   "outputs": [
    {
     "data": {
      "text/plain": [
       "#AmberHeard is an #American #actress . She made her film debut in 2004 in the sports drama #FridayNightLights #model #Celebrity #Hollywood \\n#Upcomingmovies :\\xa0#Aquaman ,\\xa0#LondonFields\\n#series #TVShows : #CriminalMinds #ThePlayboyClub #HiddenPalms #Overhaulin\\n#Movies : #JusticeLeague #MagicMike #MagicMikeXXL #driveangry #3daystokill and..                                                                                                                                                                                          51\n",
       "#johnnydepp #justiceforjohnnydepp #johnnydeppisinnocent #WeStandWithJohnnyDepp \\n#amberheardisaliar #amberheardisanabuser #amberheardusafraud #amberheardusagolddigger #amberturd #amberheard                                                                                                                                                                                                                                                                                                                                                        51\n",
       "#justiceforjohnnydepp #amberheardisanabuser #JohnnyDepp #amberheard #piratesofthecaribbean #Aquaman                                                                                                                                                                                                                                                                                                                                                                                                                                                  40\n",
       "Rebecca Ferguson🖤. •\\nFollow @rebecca._ferguson for more!! • •\\n\\n#rebeccaferguson #tomcruise #hughjackman #emilyblunt #emmawatson #zacefron #zendaya #blakelively #annehathaway #sandrabullock #sarahpaulson #cateblanchett #ryanreynolds #angelinajolie #amberheard #jenniferaniston #bradpitt #spidermanfarfromhome #rihanna #juliaroberts #jenniferlawrence #dwaynejohnson #selenagomez #marvel #tomholland #willsmith #missionimpossibleroguenation #missionimpossible #missionimpossiblefallout #ilsafaust                                     25\n",
       "#amberheard #amberheardedit #amberheardhot \\n#amberheardfans #amberheardstyle #amberlauraheard #amberheardbitch #amberheardmera #wearewithyouamberheard #amberheard2018 #amberhearddepp #fuckamberheard #simplyamberheard #amberheardsexy #amberheardcloset #amberheardcloset #amberheardadmitted #amberheardisaliar                                                                                                                                                                                                                                 24\n",
       "#amberheardisanabuser #justiceforjohnnydepp \\n#domesticviolence\\n#malescanbevictimstoo \\n#johnnydepp #amberheard #leakedaudio #menrights #fuckamberheard #court #fantasticbeasts #captainjacksparrow #piratesofthecaribbean #victimofdomesticabuse #justice #abusivebehaviour #psychologie                                                                                                                                                                                                                                                           22\n",
       "Thoughts? -Follow @marvel_and_dc_things for more!\\n-\\n-\\n-\\n-\\n-\\n-\\n-\\n#batman #theflash #greenlantern #justiceleague #batmanvsuperman #wonderwoman #ww84 #smallville #aquaman #dccomics #superheroes #comicbook #dcuniverse #dceu #dcfilms #henrycavill #galgadot #titans #avengers4 #avengersinfinitywar #blackpanther #marvelcinematicuniverse #mcu #zacksnyder #deathstroke #harleyquinn #joker #amberheard #dcuniverse #titans #shazam #sdcc                                                                                                   21\n",
       "#justiceforjohnnydepp #justicefordepp #justiceforjohnny #domesticviolenceawareness #johnnydepp #amberheard #genderequality #truegenderequality #standtogether #standwithjohnnydepp #boycottwarnerbros #amberheard #warnerbros                                                                                                                                                                                                                                                                                                                        21\n",
       "Rebecca Ferguson💕. •\\nFollow @rebecca._ferguson for more!! • •\\n\\n#rebeccaferguson #tomcruise #hughjackman #emilyblunt #emmawatson #zacefron #zendaya #blakelively #annehathaway #sandrabullock #sarahpaulson #cateblanchett #ryanreynolds #angelinajolie #amberheard #jenniferaniston #bradpitt #spidermanfarfromhome #rihanna #juliaroberts #jenniferlawrence #dwaynejohnson #selenagomez #marvel #tomholland #missionimpossibleroguenation #missionimpossible #missionimpossiblefallout #ilsafaust                                                21\n",
       "Rebecca Ferguson💕. •\\nFollow @rebecca._ferguson for more!! • •\\n\\n#rebeccaferguson #tomcruise #hughjackman #emilyblunt #emmawatson #zacefron #zendaya #blakelively #annehathaway #sandrabullock #sarahpaulson #cateblanchett #ryanreynolds #angelinajolie #amberheard #jenniferaniston #bradpitt #spidermanfarfromhome #rihanna #juliaroberts #jenniferlawrence #dwaynejohnson #selenagomez #marvel #tomholland #willsmith #missionimpossibleroguenation #missionimpossible #missionimpossiblefallout #ilsafaust                                     18\n",
       "Thoughts?\\n{follow @marvel_and_dc_things for more!!!}\\n-\\n-\\n-\\n-\\n-\\n#batman #theflash #greenlantern #justiceleague #batmanvsuperman #wonderwoman #ww84 #smallville #aquaman #dccomics #superheroes #comicbook #dcuniverse #dceu #dcfilms #henrycavill #galgadot #titans #avengers4 #avengersinfinitywar #blackpanther #marvelcinematicuniverse #mcu #zacksnyder #deathstroke #harleyquinn #joker #amberheard #dcuniverse #titans #shazam #sdcc                                                                                                     17\n",
       "#justiceforjohnnydepp #amberheardisanabuser #JohnnyDepp #amberheard                                                                                                                                                                                                                                                                                                                                                                                                                                                                                  17\n",
       "#justiceforjohnnydepp #justiceforjohnny #johnnydeppisinnocent #wearewithyoujohnnydepp #bringjohnnythathorizon #johnnydepp\\n#amberheardisaliar #amberheardisanabuser #amberturd #amberheard                                                                                                                                                                                                                                                                                                                                                           15\n",
       "#justiceforjohnnydepp #justicefordepp #justiceforjohnny #domesticviolenceawareness #johnnydepp #amberheard #genderequality #truegenderequality #standtogether #standwithjohnnydepp #boycottwarnerbros #amberheard                                                                                                                                                                                                                                                                                                                                    15\n",
       "Johnny Depp arrives at The Royal Courts of Justice, Strand on July 8, 2020 in London, England. The Hollywood actor is taking News Group Newspapers, publishers of The Sun, to court over allegations that he was violent towards his ex-wife\\n\\n#JusticeForJohnnyDepp\\n\\n#johnnydepp #youcantkeepagoodmandown #istandwithjohnnydepp #proudofjohnnydepp #ibelievehim #hiredepp #johnnydeppismygrindelwald #johnnydeppisinnocent #amberheardadmitted #AmberHeardIsAnAbuser #amberheard #boycottloreal #fireamberheard                                  15\n",
       "Johnny Depp arrives on the fourth day of his libel trial against tabloid the sun, at the High Court in London, on July 10, 2020.\\n\\n#JusticeForJohnnyDepp\\n\\n#johnnydepp #youcantkeepagoodmandown #istandwithjohnnydepp #proudofjohnnydepp #ibelievehim #hiredepp #johnnydeppismygrindelwald #johnnydeppisinnocent #amberheardadmitted #AmberHeardIsAnAbuser #amberheard #boycottloreal #fireamberheard                                                                                                                                              15\n",
       "Rebecca Ferguson🥀. •\\nFollow @rebecca._ferguson for more!! • •\\n\\n#rebeccaferguson #tomcruise #hughjackman #emilyblunt #emmawatson #zacefron #zendaya #blakelively #annehathaway #sandrabullock #sarahpaulson #cateblanchett #ryanreynolds #angelinajolie #amberheard #jenniferaniston #bradpitt #spidermanfarfromhome #rihanna #juliaroberts #jenniferlawrence #dwaynejohnson #selenagomez #marvel #tomholland #missionimpossibleroguenation #missionimpossible #missionimpossiblefallout #ilsafaust                                                14\n",
       "#WeJustDontLikeYouAmber\\n#johnnydepp #youcantkeepagoodmandown #istandwithjohnnydepp #proudofjohnnydepp #ibelievehim #hiredepp #johnnydeppismygrindelwald #johnnydeppisinnocent #amberheardadmitted #AmberHeardIsAnAbuser #amberheard #boycottloreal #fireamberheard #whitneyheard #iOTillettWright                                                                                                                                                                                                                                                   13\n",
       "@prideofmhrad_shaw_official \\n_ ♥💍\\n_ #2020\\n_\\n_You were born to be Dream not to be reallity. 👸 . ️ ⃟\\n_ \\n_ @prideofmhrad_shaw_official ؟ 🌙💋🤘🦁👁👁🦁🇸🇳💏⭐\\n_\\n_\\n #طُ_خدای_منی  #barbie  #beard#\\n#Mhrad_shaw_immortal #babe\\n#arianagrande  #mhrad #elizabetholsen  #photoshoot #مهرادشاو #باافتخار_امشـshawـاو_یی_هستم#مهرادکبیرشاهی#امشـshawـاو #japanese #FAMOUS_SHAW✝ #LeoShawdes #disney  #disneyprincess #jenniferlawrence #marlynmonroe #audreyhepburn #alexandradaddario\\n#prettygirls #pretty #beautyful #dream #billieeilish #amberheard    13\n",
       "#amberheard #amberturd #amberheardisanabuser #jailforamberheard #abuser \\n.\\n.\\n#justiceforjohnnydepp #johnnydepp #johnnydeppisinnocent\\n#wearewithyoujohnnydepp                                                                                                                                                                                                                                                                                                                                                                                     13\n",
       "Name: caption, dtype: int64"
      ]
     },
     "execution_count": 27,
     "metadata": {},
     "output_type": "execute_result"
    }
   ],
   "source": [
    "df_posts_neg.caption.value_counts().head(20)"
   ]
  },
  {
   "cell_type": "code",
   "execution_count": null,
   "id": "373ccb91",
   "metadata": {},
   "outputs": [],
   "source": []
  },
  {
   "cell_type": "code",
   "execution_count": null,
   "id": "f1779c29",
   "metadata": {},
   "outputs": [],
   "source": []
  },
  {
   "cell_type": "code",
   "execution_count": null,
   "id": "ed92c760",
   "metadata": {},
   "outputs": [],
   "source": []
  },
  {
   "cell_type": "code",
   "execution_count": null,
   "id": "f70cb9dc",
   "metadata": {},
   "outputs": [],
   "source": []
  },
  {
   "cell_type": "code",
   "execution_count": null,
   "id": "18d41ef0",
   "metadata": {},
   "outputs": [],
   "source": []
  },
  {
   "cell_type": "code",
   "execution_count": null,
   "id": "dfe3ebd8",
   "metadata": {},
   "outputs": [],
   "source": []
  },
  {
   "cell_type": "code",
   "execution_count": null,
   "id": "1d2a41a2",
   "metadata": {},
   "outputs": [],
   "source": []
  },
  {
   "cell_type": "code",
   "execution_count": null,
   "id": "4f7b6858",
   "metadata": {},
   "outputs": [],
   "source": []
  },
  {
   "cell_type": "code",
   "execution_count": null,
   "id": "80b0bff1",
   "metadata": {},
   "outputs": [],
   "source": []
  },
  {
   "cell_type": "code",
   "execution_count": null,
   "id": "c9f98084",
   "metadata": {},
   "outputs": [],
   "source": []
  },
  {
   "cell_type": "code",
   "execution_count": null,
   "id": "d35ed92f",
   "metadata": {},
   "outputs": [],
   "source": []
  },
  {
   "cell_type": "code",
   "execution_count": null,
   "id": "1bc19760",
   "metadata": {},
   "outputs": [],
   "source": []
  },
  {
   "cell_type": "markdown",
   "id": "f9a1fbb3",
   "metadata": {},
   "source": [
    "<a id='image_video'></a>\n",
    ">### Image or Video\n",
    "> <ul>\n",
    " <li><a href=\"#top_posted\">Top Negatively Posted Users</a></li>\n",
    " <li><a href=\"#captions\">Negative Captions</a></li>  \n",
    " <li><a href=\"#image_video\"><b>Image or Video</b></a></li>  \n",
    " <li><a href=\"#loc\">Locations</a></li>  \n",
    " </ul>"
   ]
  },
  {
   "cell_type": "code",
   "execution_count": 28,
   "id": "4d93b91c",
   "metadata": {},
   "outputs": [
    {
     "data": {
      "text/plain": [
       "False    175010\n",
       "True      18957\n",
       "Name: is_video, dtype: int64"
      ]
     },
     "execution_count": 28,
     "metadata": {},
     "output_type": "execute_result"
    }
   ],
   "source": [
    "df_posts[\"is_video\"].value_counts()"
   ]
  },
  {
   "cell_type": "code",
   "execution_count": 29,
   "id": "46763444",
   "metadata": {},
   "outputs": [
    {
     "data": {
      "text/html": [
       "<div>\n",
       "<style scoped>\n",
       "    .dataframe tbody tr th:only-of-type {\n",
       "        vertical-align: middle;\n",
       "    }\n",
       "\n",
       "    .dataframe tbody tr th {\n",
       "        vertical-align: top;\n",
       "    }\n",
       "\n",
       "    .dataframe thead th {\n",
       "        text-align: right;\n",
       "    }\n",
       "</style>\n",
       "<table border=\"1\" class=\"dataframe\">\n",
       "  <thead>\n",
       "    <tr style=\"text-align: right;\">\n",
       "      <th></th>\n",
       "      <th>type</th>\n",
       "      <th>n_posts</th>\n",
       "    </tr>\n",
       "  </thead>\n",
       "  <tbody>\n",
       "    <tr>\n",
       "      <th>0</th>\n",
       "      <td>image</td>\n",
       "      <td>175010</td>\n",
       "    </tr>\n",
       "    <tr>\n",
       "      <th>1</th>\n",
       "      <td>video</td>\n",
       "      <td>18957</td>\n",
       "    </tr>\n",
       "  </tbody>\n",
       "</table>\n",
       "</div>"
      ],
      "text/plain": [
       "    type  n_posts\n",
       "0  image   175010\n",
       "1  video    18957"
      ]
     },
     "execution_count": 29,
     "metadata": {},
     "output_type": "execute_result"
    }
   ],
   "source": [
    "image_video = df_posts[\"is_video\"].value_counts().to_frame().reset_index()\n",
    "image_video[\"index\"] = [\"image\", \"video\"]\n",
    "image_video.rename(columns={\"index\": \"type\", \"is_video\": \"n_posts\"}, inplace=True)\n",
    "image_video"
   ]
  },
  {
   "cell_type": "code",
   "execution_count": 30,
   "id": "4ba28125",
   "metadata": {},
   "outputs": [
    {
     "data": {
      "image/svg+xml": [
       "<svg class=\"main-svg\" xmlns=\"http://www.w3.org/2000/svg\" xmlns:xlink=\"http://www.w3.org/1999/xlink\" width=\"950\" height=\"550\" style=\"\" viewBox=\"0 0 950 550\"><rect x=\"0\" y=\"0\" width=\"950\" height=\"550\" style=\"fill: rgb(255, 255, 255); fill-opacity: 1;\"/><defs id=\"defs-6d8e65\"><g class=\"clips\"/><g class=\"gradients\"/><g class=\"patterns\"/></defs><g class=\"bglayer\"/><g class=\"layer-below\"><g class=\"imagelayer\"/><g class=\"shapelayer\"/></g><g class=\"cartesianlayer\"/><g class=\"polarlayer\"/><g class=\"ternarylayer\"/><g class=\"geolayer\"/><g class=\"funnelarealayer\"/><g class=\"pielayer\"><g class=\"trace\" stroke-linejoin=\"round\" style=\"opacity: 1;\"><g class=\"slice\"><path class=\"surface\" d=\"M461.5,285l0,-185a185,185 0 1 1 -106.59755610293946,33.798277017486754Z\" style=\"pointer-events: all; stroke-width: 0; fill: rgb(76, 120, 168); fill-opacity: 1; stroke: rgb(68, 68, 68); stroke-opacity: 1;\"/><g class=\"slicetext\"><text data-notex=\"1\" class=\"slicetext\" transform=\"translate(489.4568445291914,362.3224974267756)\" text-anchor=\"middle\" x=\"0\" y=\"0\" style=\"font-family: 'Open Sans', verdana, arial, sans-serif; font-size: 12px; fill: rgb(255, 255, 255); fill-opacity: 1; white-space: pre;\"><tspan class=\"line\" dy=\"0em\" x=\"0\" y=\"0\">image</tspan><tspan class=\"line\" dy=\"1.3em\" x=\"0\" y=\"0\">175,010</tspan><tspan class=\"line\" dy=\"2.6em\" x=\"0\" y=\"0\">90.2%</tspan></text></g></g><g class=\"slice\"><path class=\"surface\" d=\"M461.5,285l-106.59755610293938,-151.2017229825133a185,185 0 0 1 106.59755610293938,-33.7982770174867Z\" style=\"pointer-events: all; stroke-width: 0; fill: rgb(245, 133, 24); fill-opacity: 1; stroke: rgb(68, 68, 68); stroke-opacity: 1;\"/><g class=\"slicetext\"><text data-notex=\"1\" class=\"slicetext\" transform=\"translate(418.56332622180696,138.7289754494197)\" text-anchor=\"middle\" x=\"0\" y=\"0\" style=\"font-family: 'Open Sans', verdana, arial, sans-serif; font-size: 12px; fill: rgb(255, 255, 255); fill-opacity: 1; white-space: pre;\"><tspan class=\"line\" dy=\"0em\" x=\"0\" y=\"0\">video</tspan><tspan class=\"line\" dy=\"1.3em\" x=\"0\" y=\"0\">18,957</tspan><tspan class=\"line\" dy=\"2.6em\" x=\"0\" y=\"0\">9.77%</tspan></text></g></g></g></g><g class=\"iciclelayer\"/><g class=\"treemaplayer\"/><g class=\"sunburstlayer\"/><g class=\"glimages\"/><defs id=\"topdefs-6d8e65\"><g class=\"clips\"/><clipPath id=\"legend6d8e65\"><rect width=\"80\" height=\"48\" x=\"0\" y=\"0\"/></clipPath></defs><g class=\"layer-above\"><g class=\"imagelayer\"/><g class=\"shapelayer\"/></g><g class=\"infolayer\"><g class=\"legend\" pointer-events=\"all\" transform=\"translate(858.26,100)\"><rect class=\"bg\" shape-rendering=\"crispEdges\" style=\"stroke: rgb(68, 68, 68); stroke-opacity: 1; fill: rgb(255, 255, 255); fill-opacity: 1; stroke-width: 0px;\" width=\"80\" height=\"48\" x=\"0\" y=\"0\"/><g class=\"scrollbox\" transform=\"\" clip-path=\"url(#legend6d8e65)\"><g class=\"groups\"><g class=\"traces\" transform=\"translate(0,14.5)\" style=\"opacity: 1;\"><text class=\"legendtext\" text-anchor=\"start\" x=\"40\" y=\"4.680000000000001\" style=\"font-family: 'Open Sans', verdana, arial, sans-serif; font-size: 12px; fill: rgb(42, 63, 95); fill-opacity: 1; white-space: pre;\">image</text><g class=\"layers\" style=\"opacity: 1;\"><g class=\"legendfill\"/><g class=\"legendlines\"/><g class=\"legendsymbols\"><g class=\"legendpoints\"><path class=\"legendpie\" d=\"M6,6H-6V-6H6Z\" transform=\"translate(20,0)\" style=\"stroke-width: 0; fill: rgb(76, 120, 168); fill-opacity: 1; stroke: rgb(68, 68, 68); stroke-opacity: 1;\"/></g></g></g><rect class=\"legendtoggle\" x=\"0\" y=\"-9.5\" width=\"74.1875\" height=\"19\" style=\"fill: rgb(0, 0, 0); fill-opacity: 0;\"/></g><g class=\"traces\" transform=\"translate(0,33.5)\" style=\"opacity: 1;\"><text class=\"legendtext\" text-anchor=\"start\" x=\"40\" y=\"4.680000000000001\" style=\"font-family: 'Open Sans', verdana, arial, sans-serif; font-size: 12px; fill: rgb(42, 63, 95); fill-opacity: 1; white-space: pre;\">video</text><g class=\"layers\" style=\"opacity: 1;\"><g class=\"legendfill\"/><g class=\"legendlines\"/><g class=\"legendsymbols\"><g class=\"legendpoints\"><path class=\"legendpie\" d=\"M6,6H-6V-6H6Z\" transform=\"translate(20,0)\" style=\"stroke-width: 0; fill: rgb(245, 133, 24); fill-opacity: 1; stroke: rgb(68, 68, 68); stroke-opacity: 1;\"/></g></g></g><rect class=\"legendtoggle\" x=\"0\" y=\"-9.5\" width=\"74.1875\" height=\"19\" style=\"fill: rgb(0, 0, 0); fill-opacity: 0;\"/></g></g></g><rect class=\"scrollbar\" rx=\"20\" ry=\"3\" width=\"0\" height=\"0\" style=\"fill: rgb(128, 139, 164); fill-opacity: 1;\" x=\"0\" y=\"0\"/></g><g class=\"g-gtitle\"><text class=\"gtitle\" x=\"47.5\" y=\"50\" text-anchor=\"start\" dy=\"0em\" style=\"font-family: 'Open Sans', verdana, arial, sans-serif; font-size: 17px; fill: rgb(42, 63, 95); opacity: 1; font-weight: normal; white-space: pre;\">Image or Video</text></g></g></svg>"
      ]
     },
     "metadata": {},
     "output_type": "display_data"
    }
   ],
   "source": [
    "pie(image_video, \"Image or Video\")"
   ]
  },
  {
   "cell_type": "markdown",
   "id": "13720171",
   "metadata": {},
   "source": [
    "<a id='loc'></a>\n",
    ">### Locations\n",
    " <li><a href=\"#top_posted\">Top Negatively Posted Users</a></li>\n",
    " <li><a href=\"#captions\">Negative Captions</a></li>  \n",
    " <li><a href=\"#image_video\">Image or Video</a></li>  \n",
    " <li><a href=\"#loc\"><b>Locations</b></a></li>  \n",
    " </ul>"
   ]
  },
  {
   "cell_type": "code",
   "execution_count": 31,
   "id": "e0283201",
   "metadata": {},
   "outputs": [],
   "source": [
    "top_locations = get_top(\n",
    "    df_posts, col=\"location\", n=10, column_name=\"location\", count_name=\"n_posts\"\n",
    ")"
   ]
  },
  {
   "cell_type": "code",
   "execution_count": 32,
   "id": "8fcb2f2a",
   "metadata": {},
   "outputs": [
    {
     "data": {
      "text/html": [
       "<div>\n",
       "<style scoped>\n",
       "    .dataframe tbody tr th:only-of-type {\n",
       "        vertical-align: middle;\n",
       "    }\n",
       "\n",
       "    .dataframe tbody tr th {\n",
       "        vertical-align: top;\n",
       "    }\n",
       "\n",
       "    .dataframe thead th {\n",
       "        text-align: right;\n",
       "    }\n",
       "</style>\n",
       "<table border=\"1\" class=\"dataframe\">\n",
       "  <thead>\n",
       "    <tr style=\"text-align: right;\">\n",
       "      <th></th>\n",
       "      <th>location</th>\n",
       "      <th>n_posts</th>\n",
       "    </tr>\n",
       "  </thead>\n",
       "  <tbody>\n",
       "    <tr>\n",
       "      <th>0</th>\n",
       "      <td>Los Angeles, California</td>\n",
       "      <td>1786</td>\n",
       "    </tr>\n",
       "    <tr>\n",
       "      <th>1</th>\n",
       "      <td>New York, New York</td>\n",
       "      <td>1370</td>\n",
       "    </tr>\n",
       "    <tr>\n",
       "      <th>2</th>\n",
       "      <td>Jakarta, Indonesia</td>\n",
       "      <td>1087</td>\n",
       "    </tr>\n",
       "    <tr>\n",
       "      <th>3</th>\n",
       "      <td>Adana, Turkey</td>\n",
       "      <td>842</td>\n",
       "    </tr>\n",
       "    <tr>\n",
       "      <th>4</th>\n",
       "      <td>Hollywood</td>\n",
       "      <td>415</td>\n",
       "    </tr>\n",
       "    <tr>\n",
       "      <th>5</th>\n",
       "      <td>London, United Kingdom</td>\n",
       "      <td>309</td>\n",
       "    </tr>\n",
       "    <tr>\n",
       "      <th>6</th>\n",
       "      <td>Paris, France</td>\n",
       "      <td>292</td>\n",
       "    </tr>\n",
       "    <tr>\n",
       "      <th>7</th>\n",
       "      <td>Moscow, Russia</td>\n",
       "      <td>245</td>\n",
       "    </tr>\n",
       "    <tr>\n",
       "      <th>8</th>\n",
       "      <td>Mexico City, Mexico</td>\n",
       "      <td>210</td>\n",
       "    </tr>\n",
       "    <tr>\n",
       "      <th>9</th>\n",
       "      <td>Atlantis</td>\n",
       "      <td>203</td>\n",
       "    </tr>\n",
       "  </tbody>\n",
       "</table>\n",
       "</div>"
      ],
      "text/plain": [
       "                  location  n_posts\n",
       "0  Los Angeles, California     1786\n",
       "1       New York, New York     1370\n",
       "2       Jakarta, Indonesia     1087\n",
       "3            Adana, Turkey      842\n",
       "4                Hollywood      415\n",
       "5   London, United Kingdom      309\n",
       "6            Paris, France      292\n",
       "7           Moscow, Russia      245\n",
       "8      Mexico City, Mexico      210\n",
       "9                 Atlantis      203"
      ]
     },
     "execution_count": 32,
     "metadata": {},
     "output_type": "execute_result"
    }
   ],
   "source": [
    "top_locations"
   ]
  },
  {
   "cell_type": "code",
   "execution_count": 33,
   "id": "248c4b07",
   "metadata": {},
   "outputs": [
    {
     "data": {
      "image/svg+xml": [
       "<svg class=\"main-svg\" xmlns=\"http://www.w3.org/2000/svg\" xmlns:xlink=\"http://www.w3.org/1999/xlink\" width=\"950\" height=\"550\" style=\"\" viewBox=\"0 0 950 550\"><rect x=\"0\" y=\"0\" width=\"950\" height=\"550\" style=\"fill: rgb(255, 255, 255); fill-opacity: 1;\"/><defs id=\"defs-8c5397\"><g class=\"clips\"><clipPath id=\"clip8c5397xyplot\" class=\"plotclip\"><rect width=\"693\" height=\"370\"/></clipPath><clipPath class=\"axesclip\" id=\"clip8c5397x\"><rect x=\"177\" y=\"0\" width=\"693\" height=\"550\"/></clipPath><clipPath class=\"axesclip\" id=\"clip8c5397y\"><rect x=\"0\" y=\"100\" width=\"950\" height=\"370\"/></clipPath><clipPath class=\"axesclip\" id=\"clip8c5397xy\"><rect x=\"177\" y=\"100\" width=\"693\" height=\"370\"/></clipPath></g><g class=\"gradients\"/><g class=\"patterns\"/></defs><g class=\"bglayer\"><rect class=\"bg\" x=\"177\" y=\"100\" width=\"693\" height=\"370\" style=\"fill: rgb(229, 236, 246); fill-opacity: 1; stroke-width: 0;\"/></g><g class=\"layer-below\"><g class=\"imagelayer\"/><g class=\"shapelayer\"/></g><g class=\"cartesianlayer\"><g class=\"subplot xy\"><g class=\"layer-subplot\"><g class=\"shapelayer\"/><g class=\"imagelayer\"/></g><g class=\"gridlayer\"><g class=\"x\"><path class=\"xgrid crisp\" transform=\"translate(250.72,0)\" d=\"M0,100v370\" style=\"stroke: rgb(255, 255, 255); stroke-opacity: 1; stroke-width: 1px;\"/><path class=\"xgrid crisp\" transform=\"translate(324.45,0)\" d=\"M0,100v370\" style=\"stroke: rgb(255, 255, 255); stroke-opacity: 1; stroke-width: 1px;\"/><path class=\"xgrid crisp\" transform=\"translate(398.16999999999996,0)\" d=\"M0,100v370\" style=\"stroke: rgb(255, 255, 255); stroke-opacity: 1; stroke-width: 1px;\"/><path class=\"xgrid crisp\" transform=\"translate(471.89,0)\" d=\"M0,100v370\" style=\"stroke: rgb(255, 255, 255); stroke-opacity: 1; stroke-width: 1px;\"/><path class=\"xgrid crisp\" transform=\"translate(545.62,0)\" d=\"M0,100v370\" style=\"stroke: rgb(255, 255, 255); stroke-opacity: 1; stroke-width: 1px;\"/><path class=\"xgrid crisp\" transform=\"translate(619.3399999999999,0)\" d=\"M0,100v370\" style=\"stroke: rgb(255, 255, 255); stroke-opacity: 1; stroke-width: 1px;\"/><path class=\"xgrid crisp\" transform=\"translate(693.06,0)\" d=\"M0,100v370\" style=\"stroke: rgb(255, 255, 255); stroke-opacity: 1; stroke-width: 1px;\"/><path class=\"xgrid crisp\" transform=\"translate(766.79,0)\" d=\"M0,100v370\" style=\"stroke: rgb(255, 255, 255); stroke-opacity: 1; stroke-width: 1px;\"/><path class=\"xgrid crisp\" transform=\"translate(840.51,0)\" d=\"M0,100v370\" style=\"stroke: rgb(255, 255, 255); stroke-opacity: 1; stroke-width: 1px;\"/></g><g class=\"y\"/></g><g class=\"zerolinelayer\"><path class=\"xzl zl crisp\" transform=\"translate(177,0)\" d=\"M0,100v370\" style=\"stroke: rgb(255, 255, 255); stroke-opacity: 1; stroke-width: 2px;\"/></g><path class=\"xlines-below\"/><path class=\"ylines-below\"/><g class=\"overlines-below\"/><g class=\"xaxislayer-below\"/><g class=\"yaxislayer-below\"/><g class=\"overaxes-below\"/><g class=\"plot\" transform=\"translate(177,100)\" clip-path=\"url(#clip8c5397xyplot)\"><g class=\"barlayer mlayer\"><g class=\"trace bars\" style=\"opacity: 1;\"><g class=\"points\"><g class=\"point\"><path d=\"M0,3.7V33.3H658.35V3.7Z\" style=\"vector-effect: non-scaling-stroke; opacity: 1; stroke-width: 0.5px; fill: rgb(255, 0, 0); fill-opacity: 1; stroke: rgb(229, 236, 246); stroke-opacity: 1;\"/><text class=\"bartext bartext-inside\" text-anchor=\"middle\" data-notex=\"1\" x=\"0\" y=\"0\" style=\"font-family: 'Open Sans', verdana, arial, sans-serif; font-size: 12px; fill: rgb(255, 255, 255); fill-opacity: 1; white-space: pre;\" transform=\"translate(641.615625,23.25)\">1786</text></g><g class=\"point\"><path d=\"M0,40.7V70.3H505.01V40.7Z\" style=\"vector-effect: non-scaling-stroke; opacity: 1; stroke-width: 0.5px; fill: rgb(255, 0, 0); fill-opacity: 1; stroke: rgb(229, 236, 246); stroke-opacity: 1;\"/><text class=\"bartext bartext-inside\" text-anchor=\"middle\" data-notex=\"1\" x=\"0\" y=\"0\" style=\"font-family: 'Open Sans', verdana, arial, sans-serif; font-size: 12px; fill: rgb(255, 255, 255); fill-opacity: 1; white-space: pre;\" transform=\"translate(488.275625,60.25)\">1370</text></g><g class=\"point\"><path d=\"M0,77.7V107.3H400.69V77.7Z\" style=\"vector-effect: non-scaling-stroke; opacity: 1; stroke-width: 0.5px; fill: rgb(255, 0, 0); fill-opacity: 1; stroke: rgb(229, 236, 246); stroke-opacity: 1;\"/><text class=\"bartext bartext-inside\" text-anchor=\"middle\" data-notex=\"1\" x=\"0\" y=\"0\" style=\"font-family: 'Open Sans', verdana, arial, sans-serif; font-size: 12px; fill: rgb(255, 255, 255); fill-opacity: 1; white-space: pre;\" transform=\"translate(383.955625,97.25)\">1087</text></g><g class=\"point\"><path d=\"M0,114.7V144.3H310.38V114.7Z\" style=\"vector-effect: non-scaling-stroke; opacity: 1; stroke-width: 0.5px; fill: rgb(255, 0, 0); fill-opacity: 1; stroke: rgb(229, 236, 246); stroke-opacity: 1;\"/><text class=\"bartext bartext-inside\" text-anchor=\"middle\" data-notex=\"1\" x=\"0\" y=\"0\" style=\"font-family: 'Open Sans', verdana, arial, sans-serif; font-size: 12px; fill: rgb(255, 255, 255); fill-opacity: 1; white-space: pre;\" transform=\"translate(297.083125,134.25)\">842</text></g><g class=\"point\"><path d=\"M0,151.7V181.3H152.98V151.7Z\" style=\"vector-effect: non-scaling-stroke; opacity: 1; stroke-width: 0.5px; fill: rgb(82, 150, 221); fill-opacity: 1; stroke: rgb(229, 236, 246); stroke-opacity: 1;\"/><text class=\"bartext bartext-inside\" text-anchor=\"middle\" data-notex=\"1\" x=\"0\" y=\"0\" style=\"font-family: 'Open Sans', verdana, arial, sans-serif; font-size: 12px; fill: rgb(68, 68, 68); fill-opacity: 1; white-space: pre;\" transform=\"translate(139.683125,171.25)\">415</text></g><g class=\"point\"><path d=\"M0,188.7V218.3H113.9V188.7Z\" style=\"vector-effect: non-scaling-stroke; opacity: 1; stroke-width: 0.5px; fill: rgb(82, 150, 221); fill-opacity: 1; stroke: rgb(229, 236, 246); stroke-opacity: 1;\"/><text class=\"bartext bartext-inside\" text-anchor=\"middle\" data-notex=\"1\" x=\"0\" y=\"0\" style=\"font-family: 'Open Sans', verdana, arial, sans-serif; font-size: 12px; fill: rgb(68, 68, 68); fill-opacity: 1; white-space: pre;\" transform=\"translate(100.603125,208.25)\">309</text></g><g class=\"point\"><path d=\"M0,225.7V255.3H107.64V225.7Z\" style=\"vector-effect: non-scaling-stroke; opacity: 1; stroke-width: 0.5px; fill: rgb(82, 150, 221); fill-opacity: 1; stroke: rgb(229, 236, 246); stroke-opacity: 1;\"/><text class=\"bartext bartext-inside\" text-anchor=\"middle\" data-notex=\"1\" x=\"0\" y=\"0\" style=\"font-family: 'Open Sans', verdana, arial, sans-serif; font-size: 12px; fill: rgb(68, 68, 68); fill-opacity: 1; white-space: pre;\" transform=\"translate(94.343125,245.25)\">292</text></g><g class=\"point\"><path d=\"M0,262.7V292.3H90.31V262.7Z\" style=\"vector-effect: non-scaling-stroke; opacity: 1; stroke-width: 0.5px; fill: rgb(82, 150, 221); fill-opacity: 1; stroke: rgb(229, 236, 246); stroke-opacity: 1;\"/><text class=\"bartext bartext-inside\" text-anchor=\"middle\" data-notex=\"1\" x=\"0\" y=\"0\" style=\"font-family: 'Open Sans', verdana, arial, sans-serif; font-size: 12px; fill: rgb(68, 68, 68); fill-opacity: 1; white-space: pre;\" transform=\"translate(77.013125,282.25)\">245</text></g><g class=\"point\"><path d=\"M0,299.7V329.3H77.41V299.7Z\" style=\"vector-effect: non-scaling-stroke; opacity: 1; stroke-width: 0.5px; fill: rgb(82, 150, 221); fill-opacity: 1; stroke: rgb(229, 236, 246); stroke-opacity: 1;\"/><text class=\"bartext bartext-inside\" text-anchor=\"middle\" data-notex=\"1\" x=\"0\" y=\"0\" style=\"font-family: 'Open Sans', verdana, arial, sans-serif; font-size: 12px; fill: rgb(68, 68, 68); fill-opacity: 1; white-space: pre;\" transform=\"translate(64.113125,319.25)\">210</text></g><g class=\"point\"><path d=\"M0,336.7V366.3H74.83V336.7Z\" style=\"vector-effect: non-scaling-stroke; opacity: 1; stroke-width: 0.5px; fill: rgb(82, 150, 221); fill-opacity: 1; stroke: rgb(229, 236, 246); stroke-opacity: 1;\"/><text class=\"bartext bartext-inside\" text-anchor=\"middle\" data-notex=\"1\" x=\"0\" y=\"0\" style=\"font-family: 'Open Sans', verdana, arial, sans-serif; font-size: 12px; fill: rgb(68, 68, 68); fill-opacity: 1; white-space: pre;\" transform=\"translate(61.533125,356.25)\">203</text></g></g></g></g></g><g class=\"overplot\"/><path class=\"xlines-above crisp\" d=\"M0,0\" style=\"fill: none;\"/><path class=\"ylines-above crisp\" d=\"M0,0\" style=\"fill: none;\"/><g class=\"overlines-above\"/><g class=\"xaxislayer-above\"><g class=\"xtick\"><text text-anchor=\"middle\" x=\"0\" y=\"483\" transform=\"translate(177,0)\" style=\"font-family: 'Open Sans', verdana, arial, sans-serif; font-size: 12px; fill: rgb(42, 63, 95); fill-opacity: 1; white-space: pre; opacity: 1;\">0</text></g><g class=\"xtick\"><text text-anchor=\"middle\" x=\"0\" y=\"483\" style=\"font-family: 'Open Sans', verdana, arial, sans-serif; font-size: 12px; fill: rgb(42, 63, 95); fill-opacity: 1; white-space: pre; opacity: 1;\" transform=\"translate(250.72,0)\">200</text></g><g class=\"xtick\"><text text-anchor=\"middle\" x=\"0\" y=\"483\" style=\"font-family: 'Open Sans', verdana, arial, sans-serif; font-size: 12px; fill: rgb(42, 63, 95); fill-opacity: 1; white-space: pre; opacity: 1;\" transform=\"translate(324.45,0)\">400</text></g><g class=\"xtick\"><text text-anchor=\"middle\" x=\"0\" y=\"483\" style=\"font-family: 'Open Sans', verdana, arial, sans-serif; font-size: 12px; fill: rgb(42, 63, 95); fill-opacity: 1; white-space: pre; opacity: 1;\" transform=\"translate(398.16999999999996,0)\">600</text></g><g class=\"xtick\"><text text-anchor=\"middle\" x=\"0\" y=\"483\" style=\"font-family: 'Open Sans', verdana, arial, sans-serif; font-size: 12px; fill: rgb(42, 63, 95); fill-opacity: 1; white-space: pre; opacity: 1;\" transform=\"translate(471.89,0)\">800</text></g><g class=\"xtick\"><text text-anchor=\"middle\" x=\"0\" y=\"483\" style=\"font-family: 'Open Sans', verdana, arial, sans-serif; font-size: 12px; fill: rgb(42, 63, 95); fill-opacity: 1; white-space: pre; opacity: 1;\" transform=\"translate(545.62,0)\">1000</text></g><g class=\"xtick\"><text text-anchor=\"middle\" x=\"0\" y=\"483\" style=\"font-family: 'Open Sans', verdana, arial, sans-serif; font-size: 12px; fill: rgb(42, 63, 95); fill-opacity: 1; white-space: pre; opacity: 1;\" transform=\"translate(619.3399999999999,0)\">1200</text></g><g class=\"xtick\"><text text-anchor=\"middle\" x=\"0\" y=\"483\" style=\"font-family: 'Open Sans', verdana, arial, sans-serif; font-size: 12px; fill: rgb(42, 63, 95); fill-opacity: 1; white-space: pre; opacity: 1;\" transform=\"translate(693.06,0)\">1400</text></g><g class=\"xtick\"><text text-anchor=\"middle\" x=\"0\" y=\"483\" style=\"font-family: 'Open Sans', verdana, arial, sans-serif; font-size: 12px; fill: rgb(42, 63, 95); fill-opacity: 1; white-space: pre; opacity: 1;\" transform=\"translate(766.79,0)\">1600</text></g><g class=\"xtick\"><text text-anchor=\"middle\" x=\"0\" y=\"483\" style=\"font-family: 'Open Sans', verdana, arial, sans-serif; font-size: 12px; fill: rgb(42, 63, 95); fill-opacity: 1; white-space: pre; opacity: 1;\" transform=\"translate(840.51,0)\">1800</text></g></g><g class=\"yaxislayer-above\"><g class=\"ytick\"><text text-anchor=\"end\" x=\"176\" y=\"4.199999999999999\" transform=\"translate(0,451.5)\" style=\"font-family: 'Open Sans', verdana, arial, sans-serif; font-size: 12px; fill: rgb(42, 63, 95); fill-opacity: 1; white-space: pre; opacity: 1;\">Atlantis</text></g><g class=\"ytick\"><text text-anchor=\"end\" x=\"176\" y=\"4.199999999999999\" transform=\"translate(0,414.5)\" style=\"font-family: 'Open Sans', verdana, arial, sans-serif; font-size: 12px; fill: rgb(42, 63, 95); fill-opacity: 1; white-space: pre; opacity: 1;\">Mexico City, Mexico</text></g><g class=\"ytick\"><text text-anchor=\"end\" x=\"176\" y=\"4.199999999999999\" transform=\"translate(0,377.5)\" style=\"font-family: 'Open Sans', verdana, arial, sans-serif; font-size: 12px; fill: rgb(42, 63, 95); fill-opacity: 1; white-space: pre; opacity: 1;\">Moscow, Russia</text></g><g class=\"ytick\"><text text-anchor=\"end\" x=\"176\" y=\"4.199999999999999\" transform=\"translate(0,340.5)\" style=\"font-family: 'Open Sans', verdana, arial, sans-serif; font-size: 12px; fill: rgb(42, 63, 95); fill-opacity: 1; white-space: pre; opacity: 1;\">Paris, France</text></g><g class=\"ytick\"><text text-anchor=\"end\" x=\"176\" y=\"4.199999999999999\" transform=\"translate(0,303.5)\" style=\"font-family: 'Open Sans', verdana, arial, sans-serif; font-size: 12px; fill: rgb(42, 63, 95); fill-opacity: 1; white-space: pre; opacity: 1;\">London, United Kingdom</text></g><g class=\"ytick\"><text text-anchor=\"end\" x=\"176\" y=\"4.199999999999999\" transform=\"translate(0,266.5)\" style=\"font-family: 'Open Sans', verdana, arial, sans-serif; font-size: 12px; fill: rgb(42, 63, 95); fill-opacity: 1; white-space: pre; opacity: 1;\">Hollywood</text></g><g class=\"ytick\"><text text-anchor=\"end\" x=\"176\" y=\"4.199999999999999\" transform=\"translate(0,229.5)\" style=\"font-family: 'Open Sans', verdana, arial, sans-serif; font-size: 12px; fill: rgb(42, 63, 95); fill-opacity: 1; white-space: pre; opacity: 1;\">Adana, Turkey</text></g><g class=\"ytick\"><text text-anchor=\"end\" x=\"176\" y=\"4.199999999999999\" transform=\"translate(0,192.5)\" style=\"font-family: 'Open Sans', verdana, arial, sans-serif; font-size: 12px; fill: rgb(42, 63, 95); fill-opacity: 1; white-space: pre; opacity: 1;\">Jakarta, Indonesia</text></g><g class=\"ytick\"><text text-anchor=\"end\" x=\"176\" y=\"4.199999999999999\" transform=\"translate(0,155.5)\" style=\"font-family: 'Open Sans', verdana, arial, sans-serif; font-size: 12px; fill: rgb(42, 63, 95); fill-opacity: 1; white-space: pre; opacity: 1;\">New York, New York</text></g><g class=\"ytick\"><text text-anchor=\"end\" x=\"176\" y=\"4.199999999999999\" transform=\"translate(0,118.5)\" style=\"font-family: 'Open Sans', verdana, arial, sans-serif; font-size: 12px; fill: rgb(42, 63, 95); fill-opacity: 1; white-space: pre; opacity: 1;\">Los Angeles, California</text></g></g><g class=\"overaxes-above\"/></g></g><g class=\"polarlayer\"/><g class=\"ternarylayer\"/><g class=\"geolayer\"/><g class=\"funnelarealayer\"/><g class=\"pielayer\"/><g class=\"iciclelayer\"/><g class=\"treemaplayer\"/><g class=\"sunburstlayer\"/><g class=\"glimages\"/><defs id=\"topdefs-8c5397\"><g class=\"clips\"/></defs><g class=\"layer-above\"><g class=\"imagelayer\"/><g class=\"shapelayer\"/></g><g class=\"infolayer\"><g class=\"g-gtitle\"><text class=\"gtitle\" x=\"47.5\" y=\"50\" text-anchor=\"start\" dy=\"0em\" style=\"font-family: 'Open Sans', verdana, arial, sans-serif; font-size: 17px; fill: rgb(42, 63, 95); opacity: 1; font-weight: normal; white-space: pre;\">Top Locations</text></g><g class=\"g-xtitle\"><text class=\"xtitle\" x=\"523.5\" y=\"511.3\" text-anchor=\"middle\" style=\"font-family: 'Open Sans', verdana, arial, sans-serif; font-size: 14px; fill: rgb(42, 63, 95); opacity: 1; font-weight: normal; white-space: pre;\">n_posts</text></g><g class=\"g-ytitle\" transform=\"translate(3.3466796875,0)\"><text class=\"ytitle\" transform=\"rotate(-90,11.653124999999989,285)\" x=\"11.653124999999989\" y=\"285\" text-anchor=\"middle\" style=\"font-family: 'Open Sans', verdana, arial, sans-serif; font-size: 14px; fill: rgb(42, 63, 95); opacity: 1; font-weight: normal; white-space: pre;\">location</text></g></g></svg>"
      ]
     },
     "metadata": {},
     "output_type": "display_data"
    }
   ],
   "source": [
    "barh(top_locations, \"Top Locations\", 500)"
   ]
  },
  {
   "cell_type": "markdown",
   "id": "b4e74c67",
   "metadata": {},
   "source": [
    "   "
   ]
  },
  {
   "cell_type": "markdown",
   "id": "6fa3d281",
   "metadata": {},
   "source": [
    "    "
   ]
  },
  {
   "cell_type": "markdown",
   "id": "f5b8919c",
   "metadata": {},
   "source": [
    "<a id = 'conclusions'></a>\n",
    "## Conclusions\n",
    "<ul>\n",
    "<li><a href=\"#intro\">Introduction</a></li>\n",
    "<li><a href=\"#eda\">Exploratory Data Analysis</a></li>\n",
    "<li><a href=\"#conclusions\"><b>Conclusions</b></a></li>\n",
    "</ul>"
   ]
  },
  {
   "cell_type": "markdown",
   "id": "be73ca19",
   "metadata": {},
   "source": [
    "   "
   ]
  },
  {
   "cell_type": "markdown",
   "id": "261e74ae",
   "metadata": {},
   "source": [
    "<a id = 'end'><a/>\n",
    "# END OF NOTEBOOK"
   ]
  },
  {
   "cell_type": "markdown",
   "id": "cb59516f",
   "metadata": {},
   "source": [
    "   "
   ]
  }
 ],
 "metadata": {
  "kernelspec": {
   "display_name": "Python 3 (ipykernel)",
   "language": "python",
   "name": "python3"
  },
  "language_info": {
   "codemirror_mode": {
    "name": "ipython",
    "version": 3
   },
   "file_extension": ".py",
   "mimetype": "text/x-python",
   "name": "python",
   "nbconvert_exporter": "python",
   "pygments_lexer": "ipython3",
   "version": "3.8.12"
  }
 },
 "nbformat": 4,
 "nbformat_minor": 5
}
